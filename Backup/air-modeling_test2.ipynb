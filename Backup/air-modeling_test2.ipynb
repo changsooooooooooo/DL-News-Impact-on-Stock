{
 "cells": [
  {
   "cell_type": "markdown",
   "id": "f5fe3393",
   "metadata": {},
   "source": [
    "# import packages"
   ]
  },
  {
   "cell_type": "code",
   "execution_count": 1,
   "id": "f7cd4b88",
   "metadata": {},
   "outputs": [],
   "source": [
    "import os\n",
    "import tqdm\n",
    "import torch\n",
    "import pandas as pd\n",
    "from transformers import BertModel, DistilBertModel\n",
    "# import kobert_tokenizer"
   ]
  },
  {
   "cell_type": "markdown",
   "id": "27dddc1c",
   "metadata": {},
   "source": [
    "# bring pre-trained kobert model"
   ]
  },
  {
   "cell_type": "code",
   "execution_count": 2,
   "id": "a0165a43",
   "metadata": {},
   "outputs": [],
   "source": [
    "pretrained_bertmodel = BertModel.from_pretrained(\"monologg/kobert\")\n",
    "# 참고\n",
    "# 아레 코드랑 결과 같음\n",
    "# model_skt = BertModel.from_pretrained(\"skt/kobert-base-v1\")"
   ]
  },
  {
   "cell_type": "code",
   "execution_count": 3,
   "id": "d6ef7fd4",
   "metadata": {},
   "outputs": [
    {
     "data": {
      "text/plain": [
       "'C:\\\\Users\\\\Administrator\\\\Desktop\\\\Work\\\\2. 인공지능리서치AIR\\\\1. source code'"
      ]
     },
     "execution_count": 3,
     "metadata": {},
     "output_type": "execute_result"
    }
   ],
   "source": [
    "os.getcwd()"
   ]
  },
  {
   "cell_type": "markdown",
   "id": "8f5fd2fd",
   "metadata": {},
   "source": [
    "## save pre-trained kobert model (2021.07.30)"
   ]
  },
  {
   "cell_type": "code",
   "execution_count": 4,
   "id": "f6f93228",
   "metadata": {},
   "outputs": [],
   "source": [
    "# torch.save(model, 'pretrained_kobert_20210730.pth')"
   ]
  },
  {
   "cell_type": "markdown",
   "id": "a7d73904",
   "metadata": {},
   "source": [
    "# data sets"
   ]
  },
  {
   "cell_type": "code",
   "execution_count": 4,
   "id": "03859cc9",
   "metadata": {},
   "outputs": [],
   "source": [
    "data_path = \"C:/Users/Administrator/Desktop/Work/2. 인공지능리서치AIR/2. data sets/1. input data\"\n",
    "file_name1 = \"(1차)13,500건.xlsx\"\n",
    "os.path.join(data_path, file_name1)\n",
    "data_set1 = pd.read_excel(os.path.join(data_path, file_name1))"
   ]
  },
  {
   "cell_type": "code",
   "execution_count": 5,
   "id": "9d53329f",
   "metadata": {},
   "outputs": [
    {
     "data": {
      "text/plain": [
       "(13500, 9)"
      ]
     },
     "execution_count": 5,
     "metadata": {},
     "output_type": "execute_result"
    }
   ],
   "source": [
    "data_set1.shape"
   ]
  },
  {
   "cell_type": "code",
   "execution_count": 6,
   "id": "acbcd7f7",
   "metadata": {},
   "outputs": [],
   "source": [
    "file_name2 = \"(2차)34,500건.xlsx\"\n",
    "os.path.join(data_path, file_name2)\n",
    "data_set2 = pd.read_excel(os.path.join(data_path, file_name2))"
   ]
  },
  {
   "cell_type": "code",
   "execution_count": 7,
   "id": "268a21e9",
   "metadata": {},
   "outputs": [
    {
     "data": {
      "text/plain": [
       "(34500, 9)"
      ]
     },
     "execution_count": 7,
     "metadata": {},
     "output_type": "execute_result"
    }
   ],
   "source": [
    "data_set2.shape"
   ]
  },
  {
   "cell_type": "code",
   "execution_count": 8,
   "id": "38111ad3",
   "metadata": {},
   "outputs": [],
   "source": [
    "data_set = data_set1.append(data_set2)"
   ]
  },
  {
   "cell_type": "code",
   "execution_count": 9,
   "id": "b0a63ce6",
   "metadata": {},
   "outputs": [
    {
     "data": {
      "text/plain": [
       "(48000, 9)"
      ]
     },
     "execution_count": 9,
     "metadata": {},
     "output_type": "execute_result"
    }
   ],
   "source": [
    "data_set.shape"
   ]
  },
  {
   "cell_type": "code",
   "execution_count": 10,
   "id": "d99ce600",
   "metadata": {},
   "outputs": [],
   "source": [
    "data_set.columns = ['uid',\n",
    "                   'publisher',\n",
    "                   'title',\n",
    "                   'summary',\n",
    "                   'content',\n",
    "                   'content_url',\n",
    "                    'update_at',\n",
    "                   'importance',\n",
    "                   'polarity']"
   ]
  },
  {
   "cell_type": "code",
   "execution_count": 11,
   "id": "3c46aab6",
   "metadata": {},
   "outputs": [
    {
     "data": {
      "text/html": [
       "<div>\n",
       "<style scoped>\n",
       "    .dataframe tbody tr th:only-of-type {\n",
       "        vertical-align: middle;\n",
       "    }\n",
       "\n",
       "    .dataframe tbody tr th {\n",
       "        vertical-align: top;\n",
       "    }\n",
       "\n",
       "    .dataframe thead th {\n",
       "        text-align: right;\n",
       "    }\n",
       "</style>\n",
       "<table border=\"1\" class=\"dataframe\">\n",
       "  <thead>\n",
       "    <tr style=\"text-align: right;\">\n",
       "      <th></th>\n",
       "      <th>uid</th>\n",
       "      <th>publisher</th>\n",
       "      <th>title</th>\n",
       "      <th>summary</th>\n",
       "      <th>content</th>\n",
       "      <th>content_url</th>\n",
       "      <th>update_at</th>\n",
       "      <th>importance</th>\n",
       "      <th>polarity</th>\n",
       "    </tr>\n",
       "  </thead>\n",
       "  <tbody>\n",
       "    <tr>\n",
       "      <th>0</th>\n",
       "      <td>354652739944452421</td>\n",
       "      <td>뉴스1</td>\n",
       "      <td>김진석 CJ헬로비전 대표 '주주총회 70%이상 찬성으로 합병안 가결'</td>\n",
       "      <td>임세영 기자 = 김진석 CJ헬로비전 대표가 26일 오전 서울 마포구 상암동 누리꿈스...</td>\n",
       "      <td>임세영 기자 = 김진석 CJ헬로비전 대표가 26일 오전 서울 마포구 상암동 누리꿈스...</td>\n",
       "      <td>http://news.naver.com/main/read.nhn?mode=LSD&amp;m...</td>\n",
       "      <td>2016-02-26T10:25:00</td>\n",
       "      <td>+</td>\n",
       "      <td>+</td>\n",
       "    </tr>\n",
       "    <tr>\n",
       "      <th>1</th>\n",
       "      <td>848994285528420888</td>\n",
       "      <td>세계일보</td>\n",
       "      <td>[포토] LG유플러스 AR글라스 국내 최초 출시</td>\n",
       "      <td>LG유플러스는 21일 종각직영점에서 AR글라스를 국내 최초로 선보였다.\\n\\nAR ...</td>\n",
       "      <td>LG유플러스는 21일 종각직영점에서 AR글라스를 국내 최초로 선보였다. AR 글라스...</td>\n",
       "      <td>https://news.naver.com/main/read.nhn?mode=LSD&amp;...</td>\n",
       "      <td>2019-11-21T13:16:00</td>\n",
       "      <td>0</td>\n",
       "      <td>+</td>\n",
       "    </tr>\n",
       "    <tr>\n",
       "      <th>2</th>\n",
       "      <td>384800874481980240</td>\n",
       "      <td>매일경제</td>\n",
       "      <td>LG유플러스, 전국 대리점주 200여명과 상생협력 ‘약속’</td>\n",
       "      <td>LG유플러스는 18일부터 19일 경기 광주시 곤지암리조트에 전국 대리점주를 초청해 ...</td>\n",
       "      <td>LG유플러스는 18일부터 19일 경기 광주시 곤지암리조트에 전국 대리점주를 초청해 ...</td>\n",
       "      <td>http://news.naver.com/main/read.nhn?mode=LSD&amp;m...</td>\n",
       "      <td>2016-05-19T15:02:00</td>\n",
       "      <td>-</td>\n",
       "      <td>0</td>\n",
       "    </tr>\n",
       "    <tr>\n",
       "      <th>3</th>\n",
       "      <td>323299472392196193</td>\n",
       "      <td>머니투데이</td>\n",
       "      <td>[사진]LG유플러스, '갤럭시 노트-S6 엣지 플러스 판매'</td>\n",
       "      <td>LG유플러스가 20일 오전 서울 중구 세종대로 시청역 직영점에서 판매를 시작한 '갤...</td>\n",
       "      <td>LG유플러스가 20일 오전 서울 중구 세종대로 시청역 직영점에서 판매를 시작한 '갤...</td>\n",
       "      <td>http://news.naver.com/main/read.nhn?mode=LSD&amp;m...</td>\n",
       "      <td>2015-08-20T12:57:00</td>\n",
       "      <td>-</td>\n",
       "      <td>0</td>\n",
       "    </tr>\n",
       "    <tr>\n",
       "      <th>4</th>\n",
       "      <td>809184698633949410</td>\n",
       "      <td>뉴시스</td>\n",
       "      <td>평창 발왕산 트레일 18K 안 뛰면 후회</td>\n",
       "      <td>김경목 기자 = 뉴시스 강원과 용평리조트가 주최하는 '2019 평창 발왕산 트레일 ...</td>\n",
       "      <td>김경목 기자 = 뉴시스 강원과 용평리조트가 주최하는 '2019 평창 발왕산 트레일 ...</td>\n",
       "      <td>https://news.naver.com/main/read.nhn?mode=LSD&amp;...</td>\n",
       "      <td>2019-08-03T16:52:00</td>\n",
       "      <td>-</td>\n",
       "      <td>0</td>\n",
       "    </tr>\n",
       "  </tbody>\n",
       "</table>\n",
       "</div>"
      ],
      "text/plain": [
       "                  uid publisher                                   title  \\\n",
       "0  354652739944452421       뉴스1  김진석 CJ헬로비전 대표 '주주총회 70%이상 찬성으로 합병안 가결'   \n",
       "1  848994285528420888      세계일보              [포토] LG유플러스 AR글라스 국내 최초 출시   \n",
       "2  384800874481980240      매일경제        LG유플러스, 전국 대리점주 200여명과 상생협력 ‘약속’   \n",
       "3  323299472392196193     머니투데이       [사진]LG유플러스, '갤럭시 노트-S6 엣지 플러스 판매'   \n",
       "4  809184698633949410       뉴시스                  평창 발왕산 트레일 18K 안 뛰면 후회   \n",
       "\n",
       "                                             summary  \\\n",
       "0  임세영 기자 = 김진석 CJ헬로비전 대표가 26일 오전 서울 마포구 상암동 누리꿈스...   \n",
       "1  LG유플러스는 21일 종각직영점에서 AR글라스를 국내 최초로 선보였다.\\n\\nAR ...   \n",
       "2  LG유플러스는 18일부터 19일 경기 광주시 곤지암리조트에 전국 대리점주를 초청해 ...   \n",
       "3  LG유플러스가 20일 오전 서울 중구 세종대로 시청역 직영점에서 판매를 시작한 '갤...   \n",
       "4  김경목 기자 = 뉴시스 강원과 용평리조트가 주최하는 '2019 평창 발왕산 트레일 ...   \n",
       "\n",
       "                                             content  \\\n",
       "0  임세영 기자 = 김진석 CJ헬로비전 대표가 26일 오전 서울 마포구 상암동 누리꿈스...   \n",
       "1  LG유플러스는 21일 종각직영점에서 AR글라스를 국내 최초로 선보였다. AR 글라스...   \n",
       "2  LG유플러스는 18일부터 19일 경기 광주시 곤지암리조트에 전국 대리점주를 초청해 ...   \n",
       "3  LG유플러스가 20일 오전 서울 중구 세종대로 시청역 직영점에서 판매를 시작한 '갤...   \n",
       "4  김경목 기자 = 뉴시스 강원과 용평리조트가 주최하는 '2019 평창 발왕산 트레일 ...   \n",
       "\n",
       "                                         content_url            update_at  \\\n",
       "0  http://news.naver.com/main/read.nhn?mode=LSD&m...  2016-02-26T10:25:00   \n",
       "1  https://news.naver.com/main/read.nhn?mode=LSD&...  2019-11-21T13:16:00   \n",
       "2  http://news.naver.com/main/read.nhn?mode=LSD&m...  2016-05-19T15:02:00   \n",
       "3  http://news.naver.com/main/read.nhn?mode=LSD&m...  2015-08-20T12:57:00   \n",
       "4  https://news.naver.com/main/read.nhn?mode=LSD&...  2019-08-03T16:52:00   \n",
       "\n",
       "  importance polarity  \n",
       "0          +        +  \n",
       "1          0        +  \n",
       "2          -        0  \n",
       "3          -        0  \n",
       "4          -        0  "
      ]
     },
     "execution_count": 11,
     "metadata": {},
     "output_type": "execute_result"
    }
   ],
   "source": [
    "data_set.head()"
   ]
  },
  {
   "cell_type": "code",
   "execution_count": 12,
   "id": "bd0f60d8",
   "metadata": {},
   "outputs": [],
   "source": [
    "data_set_cleaned1 = data_set[data_set.importance.notnull()]\n",
    "# data_set_cleaned1.shape\n",
    "data_set_cleaned2 = data_set_cleaned1[data_set_cleaned1.polarity.notnull()]\n",
    "# data_set_cleaned2.shape"
   ]
  },
  {
   "cell_type": "code",
   "execution_count": null,
   "id": "bc5495f4",
   "metadata": {},
   "outputs": [],
   "source": []
  },
  {
   "cell_type": "code",
   "execution_count": 13,
   "id": "99510c84",
   "metadata": {},
   "outputs": [
    {
     "data": {
      "text/html": [
       "<div>\n",
       "<style scoped>\n",
       "    .dataframe tbody tr th:only-of-type {\n",
       "        vertical-align: middle;\n",
       "    }\n",
       "\n",
       "    .dataframe tbody tr th {\n",
       "        vertical-align: top;\n",
       "    }\n",
       "\n",
       "    .dataframe thead th {\n",
       "        text-align: right;\n",
       "    }\n",
       "</style>\n",
       "<table border=\"1\" class=\"dataframe\">\n",
       "  <thead>\n",
       "    <tr style=\"text-align: right;\">\n",
       "      <th></th>\n",
       "      <th>uid</th>\n",
       "      <th>publisher</th>\n",
       "      <th>title</th>\n",
       "      <th>summary</th>\n",
       "      <th>content</th>\n",
       "      <th>content_url</th>\n",
       "      <th>update_at</th>\n",
       "      <th>importance</th>\n",
       "      <th>polarity</th>\n",
       "    </tr>\n",
       "  </thead>\n",
       "  <tbody>\n",
       "    <tr>\n",
       "      <th>0</th>\n",
       "      <td>354652739944452421</td>\n",
       "      <td>뉴스1</td>\n",
       "      <td>김진석 CJ헬로비전 대표 '주주총회 70%이상 찬성으로 합병안 가결'</td>\n",
       "      <td>임세영 기자 = 김진석 CJ헬로비전 대표가 26일 오전 서울 마포구 상암동 누리꿈스...</td>\n",
       "      <td>임세영 기자 = 김진석 CJ헬로비전 대표가 26일 오전 서울 마포구 상암동 누리꿈스...</td>\n",
       "      <td>http://news.naver.com/main/read.nhn?mode=LSD&amp;m...</td>\n",
       "      <td>2016-02-26T10:25:00</td>\n",
       "      <td>+</td>\n",
       "      <td>+</td>\n",
       "    </tr>\n",
       "    <tr>\n",
       "      <th>1</th>\n",
       "      <td>848994285528420888</td>\n",
       "      <td>세계일보</td>\n",
       "      <td>[포토] LG유플러스 AR글라스 국내 최초 출시</td>\n",
       "      <td>LG유플러스는 21일 종각직영점에서 AR글라스를 국내 최초로 선보였다.\\n\\nAR ...</td>\n",
       "      <td>LG유플러스는 21일 종각직영점에서 AR글라스를 국내 최초로 선보였다. AR 글라스...</td>\n",
       "      <td>https://news.naver.com/main/read.nhn?mode=LSD&amp;...</td>\n",
       "      <td>2019-11-21T13:16:00</td>\n",
       "      <td>0</td>\n",
       "      <td>+</td>\n",
       "    </tr>\n",
       "    <tr>\n",
       "      <th>2</th>\n",
       "      <td>384800874481980240</td>\n",
       "      <td>매일경제</td>\n",
       "      <td>LG유플러스, 전국 대리점주 200여명과 상생협력 ‘약속’</td>\n",
       "      <td>LG유플러스는 18일부터 19일 경기 광주시 곤지암리조트에 전국 대리점주를 초청해 ...</td>\n",
       "      <td>LG유플러스는 18일부터 19일 경기 광주시 곤지암리조트에 전국 대리점주를 초청해 ...</td>\n",
       "      <td>http://news.naver.com/main/read.nhn?mode=LSD&amp;m...</td>\n",
       "      <td>2016-05-19T15:02:00</td>\n",
       "      <td>-</td>\n",
       "      <td>0</td>\n",
       "    </tr>\n",
       "    <tr>\n",
       "      <th>3</th>\n",
       "      <td>323299472392196193</td>\n",
       "      <td>머니투데이</td>\n",
       "      <td>[사진]LG유플러스, '갤럭시 노트-S6 엣지 플러스 판매'</td>\n",
       "      <td>LG유플러스가 20일 오전 서울 중구 세종대로 시청역 직영점에서 판매를 시작한 '갤...</td>\n",
       "      <td>LG유플러스가 20일 오전 서울 중구 세종대로 시청역 직영점에서 판매를 시작한 '갤...</td>\n",
       "      <td>http://news.naver.com/main/read.nhn?mode=LSD&amp;m...</td>\n",
       "      <td>2015-08-20T12:57:00</td>\n",
       "      <td>-</td>\n",
       "      <td>0</td>\n",
       "    </tr>\n",
       "    <tr>\n",
       "      <th>4</th>\n",
       "      <td>809184698633949410</td>\n",
       "      <td>뉴시스</td>\n",
       "      <td>평창 발왕산 트레일 18K 안 뛰면 후회</td>\n",
       "      <td>김경목 기자 = 뉴시스 강원과 용평리조트가 주최하는 '2019 평창 발왕산 트레일 ...</td>\n",
       "      <td>김경목 기자 = 뉴시스 강원과 용평리조트가 주최하는 '2019 평창 발왕산 트레일 ...</td>\n",
       "      <td>https://news.naver.com/main/read.nhn?mode=LSD&amp;...</td>\n",
       "      <td>2019-08-03T16:52:00</td>\n",
       "      <td>-</td>\n",
       "      <td>0</td>\n",
       "    </tr>\n",
       "  </tbody>\n",
       "</table>\n",
       "</div>"
      ],
      "text/plain": [
       "                  uid publisher                                   title  \\\n",
       "0  354652739944452421       뉴스1  김진석 CJ헬로비전 대표 '주주총회 70%이상 찬성으로 합병안 가결'   \n",
       "1  848994285528420888      세계일보              [포토] LG유플러스 AR글라스 국내 최초 출시   \n",
       "2  384800874481980240      매일경제        LG유플러스, 전국 대리점주 200여명과 상생협력 ‘약속’   \n",
       "3  323299472392196193     머니투데이       [사진]LG유플러스, '갤럭시 노트-S6 엣지 플러스 판매'   \n",
       "4  809184698633949410       뉴시스                  평창 발왕산 트레일 18K 안 뛰면 후회   \n",
       "\n",
       "                                             summary  \\\n",
       "0  임세영 기자 = 김진석 CJ헬로비전 대표가 26일 오전 서울 마포구 상암동 누리꿈스...   \n",
       "1  LG유플러스는 21일 종각직영점에서 AR글라스를 국내 최초로 선보였다.\\n\\nAR ...   \n",
       "2  LG유플러스는 18일부터 19일 경기 광주시 곤지암리조트에 전국 대리점주를 초청해 ...   \n",
       "3  LG유플러스가 20일 오전 서울 중구 세종대로 시청역 직영점에서 판매를 시작한 '갤...   \n",
       "4  김경목 기자 = 뉴시스 강원과 용평리조트가 주최하는 '2019 평창 발왕산 트레일 ...   \n",
       "\n",
       "                                             content  \\\n",
       "0  임세영 기자 = 김진석 CJ헬로비전 대표가 26일 오전 서울 마포구 상암동 누리꿈스...   \n",
       "1  LG유플러스는 21일 종각직영점에서 AR글라스를 국내 최초로 선보였다. AR 글라스...   \n",
       "2  LG유플러스는 18일부터 19일 경기 광주시 곤지암리조트에 전국 대리점주를 초청해 ...   \n",
       "3  LG유플러스가 20일 오전 서울 중구 세종대로 시청역 직영점에서 판매를 시작한 '갤...   \n",
       "4  김경목 기자 = 뉴시스 강원과 용평리조트가 주최하는 '2019 평창 발왕산 트레일 ...   \n",
       "\n",
       "                                         content_url            update_at  \\\n",
       "0  http://news.naver.com/main/read.nhn?mode=LSD&m...  2016-02-26T10:25:00   \n",
       "1  https://news.naver.com/main/read.nhn?mode=LSD&...  2019-11-21T13:16:00   \n",
       "2  http://news.naver.com/main/read.nhn?mode=LSD&m...  2016-05-19T15:02:00   \n",
       "3  http://news.naver.com/main/read.nhn?mode=LSD&m...  2015-08-20T12:57:00   \n",
       "4  https://news.naver.com/main/read.nhn?mode=LSD&...  2019-08-03T16:52:00   \n",
       "\n",
       "  importance polarity  \n",
       "0          +        +  \n",
       "1          0        +  \n",
       "2          -        0  \n",
       "3          -        0  \n",
       "4          -        0  "
      ]
     },
     "execution_count": 13,
     "metadata": {},
     "output_type": "execute_result"
    }
   ],
   "source": [
    "data_set_cleaned2.head()"
   ]
  },
  {
   "cell_type": "code",
   "execution_count": 14,
   "id": "0d3342bf",
   "metadata": {},
   "outputs": [],
   "source": [
    "from sklearn.preprocessing import LabelEncoder"
   ]
  },
  {
   "cell_type": "code",
   "execution_count": 15,
   "id": "647b3181",
   "metadata": {},
   "outputs": [
    {
     "name": "stderr",
     "output_type": "stream",
     "text": [
      "<ipython-input-15-7b66ed1a4174>:5: SettingWithCopyWarning: \n",
      "A value is trying to be set on a copy of a slice from a DataFrame.\n",
      "Try using .loc[row_indexer,col_indexer] = value instead\n",
      "\n",
      "See the caveats in the documentation: https://pandas.pydata.org/pandas-docs/stable/user_guide/indexing.html#returning-a-view-versus-a-copy\n",
      "  data_set_cleaned2['importance_int'] = encoder.transform(data_set_cleaned2['importance'])\n",
      "<ipython-input-15-7b66ed1a4174>:8: SettingWithCopyWarning: \n",
      "A value is trying to be set on a copy of a slice from a DataFrame.\n",
      "Try using .loc[row_indexer,col_indexer] = value instead\n",
      "\n",
      "See the caveats in the documentation: https://pandas.pydata.org/pandas-docs/stable/user_guide/indexing.html#returning-a-view-versus-a-copy\n",
      "  data_set_cleaned2['polarity_int'] = encoder.transform(data_set_cleaned2['polarity'])\n"
     ]
    }
   ],
   "source": [
    "encoder = LabelEncoder()\n",
    "\n",
    "# importance\n",
    "encoder.fit(data_set_cleaned2['importance'])\n",
    "data_set_cleaned2['importance_int'] = encoder.transform(data_set_cleaned2['importance'])\n",
    "# polarity\n",
    "encoder.fit(data_set_cleaned2['polarity'])\n",
    "data_set_cleaned2['polarity_int'] = encoder.transform(data_set_cleaned2['polarity'])"
   ]
  },
  {
   "cell_type": "code",
   "execution_count": 16,
   "id": "8c7f669a",
   "metadata": {},
   "outputs": [
    {
     "data": {
      "text/html": [
       "<div>\n",
       "<style scoped>\n",
       "    .dataframe tbody tr th:only-of-type {\n",
       "        vertical-align: middle;\n",
       "    }\n",
       "\n",
       "    .dataframe tbody tr th {\n",
       "        vertical-align: top;\n",
       "    }\n",
       "\n",
       "    .dataframe thead th {\n",
       "        text-align: right;\n",
       "    }\n",
       "</style>\n",
       "<table border=\"1\" class=\"dataframe\">\n",
       "  <thead>\n",
       "    <tr style=\"text-align: right;\">\n",
       "      <th></th>\n",
       "      <th>uid</th>\n",
       "      <th>publisher</th>\n",
       "      <th>title</th>\n",
       "      <th>summary</th>\n",
       "      <th>content</th>\n",
       "      <th>content_url</th>\n",
       "      <th>update_at</th>\n",
       "      <th>importance</th>\n",
       "      <th>polarity</th>\n",
       "      <th>importance_int</th>\n",
       "      <th>polarity_int</th>\n",
       "    </tr>\n",
       "  </thead>\n",
       "  <tbody>\n",
       "    <tr>\n",
       "      <th>0</th>\n",
       "      <td>354652739944452421</td>\n",
       "      <td>뉴스1</td>\n",
       "      <td>김진석 CJ헬로비전 대표 '주주총회 70%이상 찬성으로 합병안 가결'</td>\n",
       "      <td>임세영 기자 = 김진석 CJ헬로비전 대표가 26일 오전 서울 마포구 상암동 누리꿈스...</td>\n",
       "      <td>임세영 기자 = 김진석 CJ헬로비전 대표가 26일 오전 서울 마포구 상암동 누리꿈스...</td>\n",
       "      <td>http://news.naver.com/main/read.nhn?mode=LSD&amp;m...</td>\n",
       "      <td>2016-02-26T10:25:00</td>\n",
       "      <td>+</td>\n",
       "      <td>+</td>\n",
       "      <td>0</td>\n",
       "      <td>0</td>\n",
       "    </tr>\n",
       "    <tr>\n",
       "      <th>1</th>\n",
       "      <td>848994285528420888</td>\n",
       "      <td>세계일보</td>\n",
       "      <td>[포토] LG유플러스 AR글라스 국내 최초 출시</td>\n",
       "      <td>LG유플러스는 21일 종각직영점에서 AR글라스를 국내 최초로 선보였다.\\n\\nAR ...</td>\n",
       "      <td>LG유플러스는 21일 종각직영점에서 AR글라스를 국내 최초로 선보였다. AR 글라스...</td>\n",
       "      <td>https://news.naver.com/main/read.nhn?mode=LSD&amp;...</td>\n",
       "      <td>2019-11-21T13:16:00</td>\n",
       "      <td>0</td>\n",
       "      <td>+</td>\n",
       "      <td>2</td>\n",
       "      <td>0</td>\n",
       "    </tr>\n",
       "    <tr>\n",
       "      <th>2</th>\n",
       "      <td>384800874481980240</td>\n",
       "      <td>매일경제</td>\n",
       "      <td>LG유플러스, 전국 대리점주 200여명과 상생협력 ‘약속’</td>\n",
       "      <td>LG유플러스는 18일부터 19일 경기 광주시 곤지암리조트에 전국 대리점주를 초청해 ...</td>\n",
       "      <td>LG유플러스는 18일부터 19일 경기 광주시 곤지암리조트에 전국 대리점주를 초청해 ...</td>\n",
       "      <td>http://news.naver.com/main/read.nhn?mode=LSD&amp;m...</td>\n",
       "      <td>2016-05-19T15:02:00</td>\n",
       "      <td>-</td>\n",
       "      <td>0</td>\n",
       "      <td>1</td>\n",
       "      <td>2</td>\n",
       "    </tr>\n",
       "    <tr>\n",
       "      <th>3</th>\n",
       "      <td>323299472392196193</td>\n",
       "      <td>머니투데이</td>\n",
       "      <td>[사진]LG유플러스, '갤럭시 노트-S6 엣지 플러스 판매'</td>\n",
       "      <td>LG유플러스가 20일 오전 서울 중구 세종대로 시청역 직영점에서 판매를 시작한 '갤...</td>\n",
       "      <td>LG유플러스가 20일 오전 서울 중구 세종대로 시청역 직영점에서 판매를 시작한 '갤...</td>\n",
       "      <td>http://news.naver.com/main/read.nhn?mode=LSD&amp;m...</td>\n",
       "      <td>2015-08-20T12:57:00</td>\n",
       "      <td>-</td>\n",
       "      <td>0</td>\n",
       "      <td>1</td>\n",
       "      <td>2</td>\n",
       "    </tr>\n",
       "    <tr>\n",
       "      <th>4</th>\n",
       "      <td>809184698633949410</td>\n",
       "      <td>뉴시스</td>\n",
       "      <td>평창 발왕산 트레일 18K 안 뛰면 후회</td>\n",
       "      <td>김경목 기자 = 뉴시스 강원과 용평리조트가 주최하는 '2019 평창 발왕산 트레일 ...</td>\n",
       "      <td>김경목 기자 = 뉴시스 강원과 용평리조트가 주최하는 '2019 평창 발왕산 트레일 ...</td>\n",
       "      <td>https://news.naver.com/main/read.nhn?mode=LSD&amp;...</td>\n",
       "      <td>2019-08-03T16:52:00</td>\n",
       "      <td>-</td>\n",
       "      <td>0</td>\n",
       "      <td>1</td>\n",
       "      <td>2</td>\n",
       "    </tr>\n",
       "  </tbody>\n",
       "</table>\n",
       "</div>"
      ],
      "text/plain": [
       "                  uid publisher                                   title  \\\n",
       "0  354652739944452421       뉴스1  김진석 CJ헬로비전 대표 '주주총회 70%이상 찬성으로 합병안 가결'   \n",
       "1  848994285528420888      세계일보              [포토] LG유플러스 AR글라스 국내 최초 출시   \n",
       "2  384800874481980240      매일경제        LG유플러스, 전국 대리점주 200여명과 상생협력 ‘약속’   \n",
       "3  323299472392196193     머니투데이       [사진]LG유플러스, '갤럭시 노트-S6 엣지 플러스 판매'   \n",
       "4  809184698633949410       뉴시스                  평창 발왕산 트레일 18K 안 뛰면 후회   \n",
       "\n",
       "                                             summary  \\\n",
       "0  임세영 기자 = 김진석 CJ헬로비전 대표가 26일 오전 서울 마포구 상암동 누리꿈스...   \n",
       "1  LG유플러스는 21일 종각직영점에서 AR글라스를 국내 최초로 선보였다.\\n\\nAR ...   \n",
       "2  LG유플러스는 18일부터 19일 경기 광주시 곤지암리조트에 전국 대리점주를 초청해 ...   \n",
       "3  LG유플러스가 20일 오전 서울 중구 세종대로 시청역 직영점에서 판매를 시작한 '갤...   \n",
       "4  김경목 기자 = 뉴시스 강원과 용평리조트가 주최하는 '2019 평창 발왕산 트레일 ...   \n",
       "\n",
       "                                             content  \\\n",
       "0  임세영 기자 = 김진석 CJ헬로비전 대표가 26일 오전 서울 마포구 상암동 누리꿈스...   \n",
       "1  LG유플러스는 21일 종각직영점에서 AR글라스를 국내 최초로 선보였다. AR 글라스...   \n",
       "2  LG유플러스는 18일부터 19일 경기 광주시 곤지암리조트에 전국 대리점주를 초청해 ...   \n",
       "3  LG유플러스가 20일 오전 서울 중구 세종대로 시청역 직영점에서 판매를 시작한 '갤...   \n",
       "4  김경목 기자 = 뉴시스 강원과 용평리조트가 주최하는 '2019 평창 발왕산 트레일 ...   \n",
       "\n",
       "                                         content_url            update_at  \\\n",
       "0  http://news.naver.com/main/read.nhn?mode=LSD&m...  2016-02-26T10:25:00   \n",
       "1  https://news.naver.com/main/read.nhn?mode=LSD&...  2019-11-21T13:16:00   \n",
       "2  http://news.naver.com/main/read.nhn?mode=LSD&m...  2016-05-19T15:02:00   \n",
       "3  http://news.naver.com/main/read.nhn?mode=LSD&m...  2015-08-20T12:57:00   \n",
       "4  https://news.naver.com/main/read.nhn?mode=LSD&...  2019-08-03T16:52:00   \n",
       "\n",
       "  importance polarity  importance_int  polarity_int  \n",
       "0          +        +               0             0  \n",
       "1          0        +               2             0  \n",
       "2          -        0               1             2  \n",
       "3          -        0               1             2  \n",
       "4          -        0               1             2  "
      ]
     },
     "execution_count": 16,
     "metadata": {},
     "output_type": "execute_result"
    }
   ],
   "source": [
    "data_set_cleaned2.head()"
   ]
  },
  {
   "cell_type": "code",
   "execution_count": 17,
   "id": "f6d1ed7b",
   "metadata": {},
   "outputs": [
    {
     "data": {
      "text/plain": [
       "{0: '+', 1: '-', 2: '0'}"
      ]
     },
     "execution_count": 17,
     "metadata": {},
     "output_type": "execute_result"
    }
   ],
   "source": [
    "mapping = dict(zip(range(len(encoder.classes_)), encoder.classes_))\n",
    "mapping"
   ]
  },
  {
   "cell_type": "code",
   "execution_count": 18,
   "id": "51004b14",
   "metadata": {},
   "outputs": [
    {
     "data": {
      "text/plain": [
       "-    23854\n",
       "+    14656\n",
       "0     8719\n",
       "Name: importance, dtype: int64"
      ]
     },
     "execution_count": 18,
     "metadata": {},
     "output_type": "execute_result"
    }
   ],
   "source": [
    "data_set_cleaned2['importance'].value_counts()"
   ]
  },
  {
   "cell_type": "code",
   "execution_count": 19,
   "id": "f89d41c7",
   "metadata": {},
   "outputs": [
    {
     "data": {
      "text/plain": [
       "1    23854\n",
       "0    14656\n",
       "2     8719\n",
       "Name: importance_int, dtype: int64"
      ]
     },
     "execution_count": 19,
     "metadata": {},
     "output_type": "execute_result"
    }
   ],
   "source": [
    "data_set_cleaned2['importance_int'].value_counts()"
   ]
  },
  {
   "cell_type": "code",
   "execution_count": 20,
   "id": "3e6bda5a",
   "metadata": {},
   "outputs": [
    {
     "data": {
      "text/plain": [
       "0    25776\n",
       "+    14702\n",
       "-     6751\n",
       "Name: polarity, dtype: int64"
      ]
     },
     "execution_count": 20,
     "metadata": {},
     "output_type": "execute_result"
    }
   ],
   "source": [
    "data_set_cleaned2['polarity'].value_counts()"
   ]
  },
  {
   "cell_type": "code",
   "execution_count": 21,
   "id": "fc7a1058",
   "metadata": {},
   "outputs": [
    {
     "data": {
      "text/plain": [
       "2    25776\n",
       "0    14702\n",
       "1     6751\n",
       "Name: polarity_int, dtype: int64"
      ]
     },
     "execution_count": 21,
     "metadata": {},
     "output_type": "execute_result"
    }
   ],
   "source": [
    "data_set_cleaned2['polarity_int'].value_counts()"
   ]
  },
  {
   "cell_type": "markdown",
   "id": "169dc0e5",
   "metadata": {},
   "source": [
    "# Tokenizer"
   ]
  },
  {
   "cell_type": "markdown",
   "id": "7b875708",
   "metadata": {},
   "source": [
    "# Classifier 3"
   ]
  },
  {
   "cell_type": "markdown",
   "id": "9ca0cbe3",
   "metadata": {},
   "source": [
    "### https://zzaebok.github.io/deep_learning/nlp/Bert-for-classification/"
   ]
  },
  {
   "cell_type": "code",
   "execution_count": 91,
   "id": "7f997589",
   "metadata": {},
   "outputs": [],
   "source": [
    "# pip install pytorch-transformers"
   ]
  },
  {
   "cell_type": "code",
   "execution_count": 22,
   "id": "9b46046c",
   "metadata": {},
   "outputs": [],
   "source": [
    "import numpy as np\n",
    "import pandas as pd\n",
    "import torch\n",
    "from torch.utils.data import Dataset, DataLoader\n",
    "from pytorch_transformers import BertTokenizer, BertForSequenceClassification, BertConfig\n",
    "from torch.optim import Adam\n",
    "import torch.nn.functional as F"
   ]
  },
  {
   "cell_type": "code",
   "execution_count": 23,
   "id": "72df15bd",
   "metadata": {},
   "outputs": [
    {
     "data": {
      "text/html": [
       "<div>\n",
       "<style scoped>\n",
       "    .dataframe tbody tr th:only-of-type {\n",
       "        vertical-align: middle;\n",
       "    }\n",
       "\n",
       "    .dataframe tbody tr th {\n",
       "        vertical-align: top;\n",
       "    }\n",
       "\n",
       "    .dataframe thead th {\n",
       "        text-align: right;\n",
       "    }\n",
       "</style>\n",
       "<table border=\"1\" class=\"dataframe\">\n",
       "  <thead>\n",
       "    <tr style=\"text-align: right;\">\n",
       "      <th></th>\n",
       "      <th>uid</th>\n",
       "      <th>publisher</th>\n",
       "      <th>title</th>\n",
       "      <th>summary</th>\n",
       "      <th>content</th>\n",
       "      <th>content_url</th>\n",
       "      <th>update_at</th>\n",
       "      <th>importance</th>\n",
       "      <th>polarity</th>\n",
       "      <th>importance_int</th>\n",
       "      <th>polarity_int</th>\n",
       "    </tr>\n",
       "  </thead>\n",
       "  <tbody>\n",
       "    <tr>\n",
       "      <th>0</th>\n",
       "      <td>354652739944452421</td>\n",
       "      <td>뉴스1</td>\n",
       "      <td>김진석 CJ헬로비전 대표 '주주총회 70%이상 찬성으로 합병안 가결'</td>\n",
       "      <td>임세영 기자 = 김진석 CJ헬로비전 대표가 26일 오전 서울 마포구 상암동 누리꿈스...</td>\n",
       "      <td>임세영 기자 = 김진석 CJ헬로비전 대표가 26일 오전 서울 마포구 상암동 누리꿈스...</td>\n",
       "      <td>http://news.naver.com/main/read.nhn?mode=LSD&amp;m...</td>\n",
       "      <td>2016-02-26T10:25:00</td>\n",
       "      <td>+</td>\n",
       "      <td>+</td>\n",
       "      <td>0</td>\n",
       "      <td>0</td>\n",
       "    </tr>\n",
       "    <tr>\n",
       "      <th>1</th>\n",
       "      <td>848994285528420888</td>\n",
       "      <td>세계일보</td>\n",
       "      <td>[포토] LG유플러스 AR글라스 국내 최초 출시</td>\n",
       "      <td>LG유플러스는 21일 종각직영점에서 AR글라스를 국내 최초로 선보였다.\\n\\nAR ...</td>\n",
       "      <td>LG유플러스는 21일 종각직영점에서 AR글라스를 국내 최초로 선보였다. AR 글라스...</td>\n",
       "      <td>https://news.naver.com/main/read.nhn?mode=LSD&amp;...</td>\n",
       "      <td>2019-11-21T13:16:00</td>\n",
       "      <td>0</td>\n",
       "      <td>+</td>\n",
       "      <td>2</td>\n",
       "      <td>0</td>\n",
       "    </tr>\n",
       "    <tr>\n",
       "      <th>2</th>\n",
       "      <td>384800874481980240</td>\n",
       "      <td>매일경제</td>\n",
       "      <td>LG유플러스, 전국 대리점주 200여명과 상생협력 ‘약속’</td>\n",
       "      <td>LG유플러스는 18일부터 19일 경기 광주시 곤지암리조트에 전국 대리점주를 초청해 ...</td>\n",
       "      <td>LG유플러스는 18일부터 19일 경기 광주시 곤지암리조트에 전국 대리점주를 초청해 ...</td>\n",
       "      <td>http://news.naver.com/main/read.nhn?mode=LSD&amp;m...</td>\n",
       "      <td>2016-05-19T15:02:00</td>\n",
       "      <td>-</td>\n",
       "      <td>0</td>\n",
       "      <td>1</td>\n",
       "      <td>2</td>\n",
       "    </tr>\n",
       "    <tr>\n",
       "      <th>3</th>\n",
       "      <td>323299472392196193</td>\n",
       "      <td>머니투데이</td>\n",
       "      <td>[사진]LG유플러스, '갤럭시 노트-S6 엣지 플러스 판매'</td>\n",
       "      <td>LG유플러스가 20일 오전 서울 중구 세종대로 시청역 직영점에서 판매를 시작한 '갤...</td>\n",
       "      <td>LG유플러스가 20일 오전 서울 중구 세종대로 시청역 직영점에서 판매를 시작한 '갤...</td>\n",
       "      <td>http://news.naver.com/main/read.nhn?mode=LSD&amp;m...</td>\n",
       "      <td>2015-08-20T12:57:00</td>\n",
       "      <td>-</td>\n",
       "      <td>0</td>\n",
       "      <td>1</td>\n",
       "      <td>2</td>\n",
       "    </tr>\n",
       "    <tr>\n",
       "      <th>4</th>\n",
       "      <td>809184698633949410</td>\n",
       "      <td>뉴시스</td>\n",
       "      <td>평창 발왕산 트레일 18K 안 뛰면 후회</td>\n",
       "      <td>김경목 기자 = 뉴시스 강원과 용평리조트가 주최하는 '2019 평창 발왕산 트레일 ...</td>\n",
       "      <td>김경목 기자 = 뉴시스 강원과 용평리조트가 주최하는 '2019 평창 발왕산 트레일 ...</td>\n",
       "      <td>https://news.naver.com/main/read.nhn?mode=LSD&amp;...</td>\n",
       "      <td>2019-08-03T16:52:00</td>\n",
       "      <td>-</td>\n",
       "      <td>0</td>\n",
       "      <td>1</td>\n",
       "      <td>2</td>\n",
       "    </tr>\n",
       "  </tbody>\n",
       "</table>\n",
       "</div>"
      ],
      "text/plain": [
       "                  uid publisher                                   title  \\\n",
       "0  354652739944452421       뉴스1  김진석 CJ헬로비전 대표 '주주총회 70%이상 찬성으로 합병안 가결'   \n",
       "1  848994285528420888      세계일보              [포토] LG유플러스 AR글라스 국내 최초 출시   \n",
       "2  384800874481980240      매일경제        LG유플러스, 전국 대리점주 200여명과 상생협력 ‘약속’   \n",
       "3  323299472392196193     머니투데이       [사진]LG유플러스, '갤럭시 노트-S6 엣지 플러스 판매'   \n",
       "4  809184698633949410       뉴시스                  평창 발왕산 트레일 18K 안 뛰면 후회   \n",
       "\n",
       "                                             summary  \\\n",
       "0  임세영 기자 = 김진석 CJ헬로비전 대표가 26일 오전 서울 마포구 상암동 누리꿈스...   \n",
       "1  LG유플러스는 21일 종각직영점에서 AR글라스를 국내 최초로 선보였다.\\n\\nAR ...   \n",
       "2  LG유플러스는 18일부터 19일 경기 광주시 곤지암리조트에 전국 대리점주를 초청해 ...   \n",
       "3  LG유플러스가 20일 오전 서울 중구 세종대로 시청역 직영점에서 판매를 시작한 '갤...   \n",
       "4  김경목 기자 = 뉴시스 강원과 용평리조트가 주최하는 '2019 평창 발왕산 트레일 ...   \n",
       "\n",
       "                                             content  \\\n",
       "0  임세영 기자 = 김진석 CJ헬로비전 대표가 26일 오전 서울 마포구 상암동 누리꿈스...   \n",
       "1  LG유플러스는 21일 종각직영점에서 AR글라스를 국내 최초로 선보였다. AR 글라스...   \n",
       "2  LG유플러스는 18일부터 19일 경기 광주시 곤지암리조트에 전국 대리점주를 초청해 ...   \n",
       "3  LG유플러스가 20일 오전 서울 중구 세종대로 시청역 직영점에서 판매를 시작한 '갤...   \n",
       "4  김경목 기자 = 뉴시스 강원과 용평리조트가 주최하는 '2019 평창 발왕산 트레일 ...   \n",
       "\n",
       "                                         content_url            update_at  \\\n",
       "0  http://news.naver.com/main/read.nhn?mode=LSD&m...  2016-02-26T10:25:00   \n",
       "1  https://news.naver.com/main/read.nhn?mode=LSD&...  2019-11-21T13:16:00   \n",
       "2  http://news.naver.com/main/read.nhn?mode=LSD&m...  2016-05-19T15:02:00   \n",
       "3  http://news.naver.com/main/read.nhn?mode=LSD&m...  2015-08-20T12:57:00   \n",
       "4  https://news.naver.com/main/read.nhn?mode=LSD&...  2019-08-03T16:52:00   \n",
       "\n",
       "  importance polarity  importance_int  polarity_int  \n",
       "0          +        +               0             0  \n",
       "1          0        +               2             0  \n",
       "2          -        0               1             2  \n",
       "3          -        0               1             2  \n",
       "4          -        0               1             2  "
      ]
     },
     "execution_count": 23,
     "metadata": {},
     "output_type": "execute_result"
    }
   ],
   "source": [
    "data_set_cleaned2.head()"
   ]
  },
  {
   "cell_type": "code",
   "execution_count": 24,
   "id": "2a7db6b5",
   "metadata": {},
   "outputs": [],
   "source": [
    "new_data = data_set_cleaned2[['content', 'importance_int']]"
   ]
  },
  {
   "cell_type": "code",
   "execution_count": 25,
   "id": "134224ab",
   "metadata": {},
   "outputs": [
    {
     "data": {
      "text/html": [
       "<div>\n",
       "<style scoped>\n",
       "    .dataframe tbody tr th:only-of-type {\n",
       "        vertical-align: middle;\n",
       "    }\n",
       "\n",
       "    .dataframe tbody tr th {\n",
       "        vertical-align: top;\n",
       "    }\n",
       "\n",
       "    .dataframe thead th {\n",
       "        text-align: right;\n",
       "    }\n",
       "</style>\n",
       "<table border=\"1\" class=\"dataframe\">\n",
       "  <thead>\n",
       "    <tr style=\"text-align: right;\">\n",
       "      <th></th>\n",
       "      <th>content</th>\n",
       "      <th>importance_int</th>\n",
       "    </tr>\n",
       "  </thead>\n",
       "  <tbody>\n",
       "    <tr>\n",
       "      <th>0</th>\n",
       "      <td>임세영 기자 = 김진석 CJ헬로비전 대표가 26일 오전 서울 마포구 상암동 누리꿈스...</td>\n",
       "      <td>0</td>\n",
       "    </tr>\n",
       "    <tr>\n",
       "      <th>1</th>\n",
       "      <td>LG유플러스는 21일 종각직영점에서 AR글라스를 국내 최초로 선보였다. AR 글라스...</td>\n",
       "      <td>2</td>\n",
       "    </tr>\n",
       "  </tbody>\n",
       "</table>\n",
       "</div>"
      ],
      "text/plain": [
       "                                             content  importance_int\n",
       "0  임세영 기자 = 김진석 CJ헬로비전 대표가 26일 오전 서울 마포구 상암동 누리꿈스...               0\n",
       "1  LG유플러스는 21일 종각직영점에서 AR글라스를 국내 최초로 선보였다. AR 글라스...               2"
      ]
     },
     "execution_count": 25,
     "metadata": {},
     "output_type": "execute_result"
    }
   ],
   "source": [
    "new_data.head(2)"
   ]
  },
  {
   "cell_type": "code",
   "execution_count": 26,
   "id": "c2da4bfa",
   "metadata": {},
   "outputs": [
    {
     "name": "stdout",
     "output_type": "stream",
     "text": [
      "train shape is: 37783\n",
      "test shape is: 9446\n"
     ]
    }
   ],
   "source": [
    "from sklearn.model_selection import train_test_split\n",
    "train, test = train_test_split(new_data, test_size=0.2, random_state=42)\n",
    "print(\"train shape is:\", len(train))\n",
    "print(\"test shape is:\", len(test))"
   ]
  },
  {
   "cell_type": "code",
   "execution_count": 27,
   "id": "fd260345",
   "metadata": {},
   "outputs": [],
   "source": [
    "class AirDataset(Dataset):\n",
    "    ''' Dataset '''\n",
    "    def __init__(self, df):\n",
    "        self.df = df\n",
    "\n",
    "    def __len__(self):\n",
    "        return len(self.df)\n",
    "\n",
    "    def __getitem__(self, idx):\n",
    "        text = self.df.iloc[idx, 1]\n",
    "        label = self.df.iloc[idx, 2]\n",
    "        return text, label"
   ]
  },
  {
   "cell_type": "code",
   "execution_count": 28,
   "id": "87f59d32",
   "metadata": {},
   "outputs": [],
   "source": [
    "Air_train_dataset = AirDataset(train)\n",
    "train_loader = DataLoader(Air_train_dataset,\n",
    "                         batch_size = 10,\n",
    "                         shuffle = True,\n",
    "                         num_workers = 2)"
   ]
  },
  {
   "cell_type": "code",
   "execution_count": null,
   "id": "47bb349e",
   "metadata": {},
   "outputs": [],
   "source": [
    "for i, batch in enumerate(train_loader):\n",
    "    print(i, batch)"
   ]
  },
  {
   "cell_type": "code",
   "execution_count": 25,
   "id": "1c563088",
   "metadata": {},
   "outputs": [],
   "source": [
    "device = torch.device(\"cuda\")"
   ]
  },
  {
   "cell_type": "code",
   "execution_count": 26,
   "id": "76ee134b",
   "metadata": {},
   "outputs": [],
   "source": [
    "tokenizer = BertTokenizer.from_pretrained('bert-base-multilingual-cased')\n",
    "model = BertForSequenceClassification.from_pretrained('bert-base-multilingual-cased')"
   ]
  },
  {
   "cell_type": "code",
   "execution_count": null,
   "id": "eb4b06e9",
   "metadata": {},
   "outputs": [],
   "source": [
    "model.to(device)"
   ]
  },
  {
   "cell_type": "code",
   "execution_count": 27,
   "id": "2c01839b",
   "metadata": {},
   "outputs": [],
   "source": [
    "optimizer = Adam(model.parameters(), lr=1e-6)\n",
    "\n",
    "itr = 1\n",
    "p_itr = 500\n",
    "epochs = 10\n",
    "total_loss = 0\n",
    "total_len = 0\n",
    "total_correct = 0\n"
   ]
  },
  {
   "cell_type": "code",
   "execution_count": 34,
   "id": "fcfac549",
   "metadata": {},
   "outputs": [
    {
     "ename": "NameError",
     "evalue": "name 'label' is not defined",
     "output_type": "error",
     "traceback": [
      "\u001b[1;31m---------------------------------------------------------------------------\u001b[0m",
      "\u001b[1;31mNameError\u001b[0m                                 Traceback (most recent call last)",
      "\u001b[1;32m<ipython-input-34-441c66fe1052>\u001b[0m in \u001b[0;36m<module>\u001b[1;34m\u001b[0m\n\u001b[0;32m      6\u001b[0m \u001b[1;31m# padded_list\u001b[0m\u001b[1;33m\u001b[0m\u001b[1;33m\u001b[0m\u001b[1;33m\u001b[0m\u001b[0m\n\u001b[0;32m      7\u001b[0m \u001b[0msample\u001b[0m \u001b[1;33m=\u001b[0m \u001b[0mtorch\u001b[0m\u001b[1;33m.\u001b[0m\u001b[0mtensor\u001b[0m\u001b[1;33m(\u001b[0m\u001b[0mpadded_list\u001b[0m\u001b[1;33m)\u001b[0m\u001b[1;33m\u001b[0m\u001b[1;33m\u001b[0m\u001b[0m\n\u001b[1;32m----> 8\u001b[1;33m \u001b[0mlabels\u001b[0m \u001b[1;33m=\u001b[0m \u001b[0mtorch\u001b[0m\u001b[1;33m.\u001b[0m\u001b[0mtensor\u001b[0m\u001b[1;33m(\u001b[0m\u001b[0mlabel\u001b[0m\u001b[1;33m)\u001b[0m\u001b[1;33m\u001b[0m\u001b[1;33m\u001b[0m\u001b[0m\n\u001b[0m\u001b[0;32m      9\u001b[0m \u001b[0mprint\u001b[0m\u001b[1;33m(\u001b[0m\u001b[0mlabels\u001b[0m\u001b[1;33m)\u001b[0m\u001b[1;33m\u001b[0m\u001b[1;33m\u001b[0m\u001b[0m\n\u001b[0;32m     10\u001b[0m \u001b[1;31m# outputs = model(sample, labels=labels)\u001b[0m\u001b[1;33m\u001b[0m\u001b[1;33m\u001b[0m\u001b[1;33m\u001b[0m\u001b[0m\n",
      "\u001b[1;31mNameError\u001b[0m: name 'label' is not defined"
     ]
    }
   ],
   "source": [
    "optimizer.zero_grad()\n",
    "text2 = train['content'][0]\n",
    "label2 = train[]\n",
    "encoded_list = [tokenizer.encode(t, add_special_tokens=True) for t in text2]\n",
    "# encoded_list\n",
    "padded_list =  [e + [0] * (512-len(e)) for e in encoded_list]\n",
    "# padded_list\n",
    "sample = torch.tensor(padded_list)\n",
    "labels = torch.tensor(label)\n",
    "print(labels)\n",
    "# outputs = model(sample, labels=labels)\n",
    "# loss, logits = outputs\n",
    "\n",
    "# pred = torch.argmax(F.softmax(logits), dim=1)\n",
    "# correct = pred.eq(labels)\n",
    "# total_correct += correct.sum().item()\n",
    "# total_len += len(labels)\n",
    "# total_loss += loss.item()\n",
    "# loss.backward()\n",
    "# optimizer.step()"
   ]
  },
  {
   "cell_type": "code",
   "execution_count": null,
   "id": "11719dc3",
   "metadata": {},
   "outputs": [],
   "source": [
    "model.train()\n",
    "for epoch in range(epochs):\n",
    "    \n",
    "    #for text, label in enumerate(tqdm(train_loader)):\n",
    "    for text, label in train_loader:\n",
    "        optimizer.zero_grad()\n",
    "        \n",
    "        # encoding and zero padding\n",
    "        encoded_list = [tokenizer.encode(t, add_special_tokens=True) for t in text]\n",
    "        padded_list =  [e + [0] * (512-len(e)) for e in encoded_list]\n",
    "        \n",
    "        sample = torch.tensor(padded_list)\n",
    "        # sample, label = sample.to(device), label.to(device)\n",
    "        # sample, label = sample.to(device), label.to(device)\n",
    "        labels = torch.tensor(label)\n",
    "        outputs = model(sample, labels=labels)\n",
    "        loss, logits = outputs\n",
    "\n",
    "        pred = torch.argmax(F.softmax(logits), dim=1)\n",
    "        correct = pred.eq(labels)\n",
    "        total_correct += correct.sum().item()\n",
    "        total_len += len(labels)\n",
    "        total_loss += loss.item()\n",
    "        loss.backward()\n",
    "        optimizer.step()\n",
    "        \n",
    "        if itr % p_itr == 0:\n",
    "            print('[Epoch {}/{}] Iteration {} -> Train Loss: {:.4f}, Accuracy: {:.3f}'.format(epoch+1, epochs, itr, total_loss/p_itr, total_correct/total_len))\n",
    "            total_loss = 0\n",
    "            total_len = 0\n",
    "            total_correct = 0\n",
    "\n",
    "        itr+=1"
   ]
  },
  {
   "cell_type": "code",
   "execution_count": null,
   "id": "5f99d0b1",
   "metadata": {},
   "outputs": [],
   "source": [
    "train.head()"
   ]
  },
  {
   "cell_type": "code",
   "execution_count": null,
   "id": "8b18467e",
   "metadata": {},
   "outputs": [],
   "source": [
    "text_test = train[0:1, 'content']\n",
    "encoded_list = [tokenizer.encode(t, add_special_tokens=True) for t in text_test]"
   ]
  },
  {
   "cell_type": "code",
   "execution_count": null,
   "id": "0fc89945",
   "metadata": {},
   "outputs": [],
   "source": [
    "for epoch in range(epochs):\n",
    "    \n",
    "    for text, label in train_loader:\n",
    "        optimizer.zero_grad()\n",
    "        print('optim \\n')\n",
    "        \n",
    "        # encoding and zero padding\n",
    "        encoded_list = [tokenizer.encode(t, add_special_tokens=True) for t in text]\n",
    "        print(encoded_list)\n",
    "#         padded_list =  [e + [0] * (512-len(e)) for e in encoded_list]\n",
    "        \n",
    "#         sample = torch.tensor(padded_list)\n",
    "#         # sample, label = sample.to(device), label.to(device)\n",
    "#         # sample, label = sample.to(device), label.to(device)\n",
    "#         labels = torch.tensor(label)\n",
    "#         outputs = model(sample, labels=labels)\n",
    "#         loss, logits = outputs\n",
    "\n",
    "#         pred = torch.argmax(F.softmax(logits), dim=1)\n",
    "#         correct = pred.eq(labels)\n",
    "#         total_correct += correct.sum().item()\n",
    "#         total_len += len(labels)\n",
    "#         total_loss += loss.item()\n",
    "#         loss.backward()\n",
    "#         optimizer.step()\n",
    "        \n",
    "#         if itr % p_itr == 0:\n",
    "#             print('[Epoch {}/{}] Iteration {} -> Train Loss: {:.4f}, Accuracy: {:.3f}'.format(epoch+1, epochs, itr, total_loss/p_itr, total_correct/total_len))\n",
    "#             total_loss = 0\n",
    "#             total_len = 0\n",
    "#             total_correct = 0\n",
    "\n",
    "#         itr+=1"
   ]
  },
  {
   "cell_type": "code",
   "execution_count": null,
   "id": "a71a2790",
   "metadata": {},
   "outputs": [],
   "source": [
    "# evaluation\n",
    "model.eval()\n",
    "\n",
    "nsmc_eval_dataset = NsmcDataset(test_df)\n",
    "eval_loader = DataLoader(nsmc_eval_dataset, batch_size=2, shuffle=False, num_workers=2)\n",
    "\n",
    "total_loss = 0\n",
    "total_len = 0\n",
    "total_correct = 0\n",
    "\n",
    "for text, label in eval_loader:\n",
    "    encoded_list = [tokenizer.encode(t, add_special_tokens=True) for t in text]\n",
    "    padded_list =  [e + [0] * (512-len(e)) for e in encoded_list]\n",
    "    sample = torch.tensor(padded_list)\n",
    "    sample, label = sample.to(device), label.to(device)\n",
    "    labels = torch.tensor(label)\n",
    "    outputs = model(sample, labels=labels)\n",
    "    _, logits = outputs\n",
    "\n",
    "    pred = torch.argmax(F.softmax(logits), dim=1)\n",
    "    correct = pred.eq(labels)\n",
    "    total_correct += correct.sum().item()\n",
    "    total_len += len(labels)\n",
    "\n",
    "print('Test accuracy: ', total_correct / total_len)"
   ]
  }
 ],
 "metadata": {
  "kernelspec": {
   "display_name": "Python 3",
   "language": "python",
   "name": "python3"
  },
  "language_info": {
   "codemirror_mode": {
    "name": "ipython",
    "version": 3
   },
   "file_extension": ".py",
   "mimetype": "text/x-python",
   "name": "python",
   "nbconvert_exporter": "python",
   "pygments_lexer": "ipython3",
   "version": "3.8.8"
  }
 },
 "nbformat": 4,
 "nbformat_minor": 5
}
