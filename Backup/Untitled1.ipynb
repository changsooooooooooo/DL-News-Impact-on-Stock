{
 "cells": [
  {
   "cell_type": "code",
   "execution_count": null,
   "id": "5454a75a",
   "metadata": {},
   "outputs": [],
   "source": []
  },
  {
   "cell_type": "code",
   "execution_count": 24,
   "id": "18c5e32c",
   "metadata": {},
   "outputs": [],
   "source": [
    "class MapDataset(Dataset):\n",
    "    def __len__(self):\n",
    "        return 10\n",
    "    \n",
    "    def __getitem__(self, idx):\n",
    "        return {\"input\":torch.tensor([idx, 2*idx, 3*idx], \n",
    "                                     dtype=torch.float32), \n",
    "                \"label\": torch.tensor(idx, \n",
    "                                      dtype=torch.float32)}\n",
    "\n",
    "map_dataset = MapDataset()"
   ]
  },
  {
   "cell_type": "code",
   "execution_count": 42,
   "id": "8a632a2f",
   "metadata": {},
   "outputs": [
    {
     "data": {
      "text/plain": [
       "<__main__.MapDataset at 0x2452da624c0>"
      ]
     },
     "execution_count": 42,
     "metadata": {},
     "output_type": "execute_result"
    }
   ],
   "source": [
    "map_dataset"
   ]
  },
  {
   "cell_type": "code",
   "execution_count": null,
   "id": "659f13d2",
   "metadata": {},
   "outputs": [],
   "source": []
  },
  {
   "cell_type": "code",
   "execution_count": null,
   "id": "107dc2ba",
   "metadata": {},
   "outputs": [],
   "source": []
  },
  {
   "cell_type": "code",
   "execution_count": 25,
   "id": "b01c33a2",
   "metadata": {},
   "outputs": [
    {
     "name": "stdout",
     "output_type": "stream",
     "text": [
      "tensor([0.])\n",
      "tensor([1.])\n",
      "tensor([2.])\n",
      "tensor([3.])\n",
      "tensor([4.])\n",
      "tensor([5.])\n",
      "tensor([6.])\n",
      "tensor([7.])\n",
      "tensor([8.])\n",
      "tensor([9.])\n"
     ]
    }
   ],
   "source": [
    "dataloader = torch.utils.data.DataLoader(map_dataset)\n",
    "for data in dataloader:\n",
    "    print(data['label'])"
   ]
  },
  {
   "cell_type": "code",
   "execution_count": 41,
   "id": "64e26554",
   "metadata": {},
   "outputs": [
    {
     "name": "stdout",
     "output_type": "stream",
     "text": [
      "torch.Size([4, 3]) tensor([0., 1., 2., 3.])\n",
      "torch.Size([4, 3]) tensor([4., 5., 6., 7.])\n",
      "torch.Size([2, 3]) tensor([8., 9.])\n"
     ]
    }
   ],
   "source": [
    "dataloader = torch.utils.data.DataLoader(map_dataset,\n",
    "                                         batch_size=4)\n",
    "for data in dataloader:\n",
    "    print(data['input'].shape, data['label'])"
   ]
  },
  {
   "cell_type": "code",
   "execution_count": null,
   "id": "4253f8e9",
   "metadata": {},
   "outputs": [],
   "source": []
  },
  {
   "cell_type": "code",
   "execution_count": null,
   "id": "9ec7bc6d",
   "metadata": {},
   "outputs": [],
   "source": []
  },
  {
   "cell_type": "code",
   "execution_count": null,
   "id": "ecaded49",
   "metadata": {},
   "outputs": [],
   "source": []
  },
  {
   "cell_type": "code",
   "execution_count": null,
   "id": "db6428f7",
   "metadata": {},
   "outputs": [],
   "source": []
  },
  {
   "cell_type": "code",
   "execution_count": null,
   "id": "8340d4f3",
   "metadata": {},
   "outputs": [],
   "source": []
  }
 ],
 "metadata": {
  "kernelspec": {
   "display_name": "Python 3",
   "language": "python",
   "name": "python3"
  },
  "language_info": {
   "codemirror_mode": {
    "name": "ipython",
    "version": 3
   },
   "file_extension": ".py",
   "mimetype": "text/x-python",
   "name": "python",
   "nbconvert_exporter": "python",
   "pygments_lexer": "ipython3",
   "version": "3.8.8"
  }
 },
 "nbformat": 4,
 "nbformat_minor": 5
}
