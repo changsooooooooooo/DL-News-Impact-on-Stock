{
 "cells": [
  {
   "cell_type": "markdown",
   "id": "f5fe3393",
   "metadata": {},
   "source": [
    "# import packages"
   ]
  },
  {
   "cell_type": "code",
   "execution_count": 1,
   "id": "f7cd4b88",
   "metadata": {},
   "outputs": [],
   "source": [
    "import os\n",
    "import torch\n",
    "import pandas as pd\n",
    "from transformers import BertModel, DistilBertModel\n",
    "# import kobert_tokenizer"
   ]
  },
  {
   "cell_type": "code",
   "execution_count": 2,
   "id": "d6ef7fd4",
   "metadata": {},
   "outputs": [
    {
     "data": {
      "text/plain": [
       "'C:\\\\Users\\\\Administrator\\\\Desktop\\\\Work\\\\2. 인공지능리서치AIR\\\\1. source code'"
      ]
     },
     "execution_count": 2,
     "metadata": {},
     "output_type": "execute_result"
    }
   ],
   "source": [
    "os.getcwd()"
   ]
  },
  {
   "cell_type": "markdown",
   "id": "8f5fd2fd",
   "metadata": {},
   "source": [
    "## save pre-trained kobert model (2021.07.30)"
   ]
  },
  {
   "cell_type": "code",
   "execution_count": 6,
   "id": "f6f93228",
   "metadata": {},
   "outputs": [],
   "source": [
    "# torch.save(model, 'pretrained_kobert_20210730.pth')"
   ]
  },
  {
   "cell_type": "markdown",
   "id": "a7d73904",
   "metadata": {},
   "source": [
    "# data sets"
   ]
  },
  {
   "cell_type": "code",
   "execution_count": 3,
   "id": "03859cc9",
   "metadata": {},
   "outputs": [],
   "source": [
    "data_path = \"C:/Users/Administrator/Desktop/Work/2. 인공지능리서치AIR/2. data sets/1. input data\"\n",
    "file_name1 = \"(1차)13,500건.xlsx\"\n",
    "os.path.join(data_path, file_name1)\n",
    "data_set1 = pd.read_excel(os.path.join(data_path, file_name1))"
   ]
  },
  {
   "cell_type": "code",
   "execution_count": 4,
   "id": "9d53329f",
   "metadata": {},
   "outputs": [
    {
     "data": {
      "text/plain": [
       "(13500, 9)"
      ]
     },
     "execution_count": 4,
     "metadata": {},
     "output_type": "execute_result"
    }
   ],
   "source": [
    "data_set1.shape"
   ]
  },
  {
   "cell_type": "code",
   "execution_count": 5,
   "id": "acbcd7f7",
   "metadata": {},
   "outputs": [],
   "source": [
    "file_name2 = \"(2차)34,500건.xlsx\"\n",
    "os.path.join(data_path, file_name2)\n",
    "data_set2 = pd.read_excel(os.path.join(data_path, file_name2))"
   ]
  },
  {
   "cell_type": "code",
   "execution_count": 6,
   "id": "268a21e9",
   "metadata": {},
   "outputs": [
    {
     "data": {
      "text/plain": [
       "(34500, 9)"
      ]
     },
     "execution_count": 6,
     "metadata": {},
     "output_type": "execute_result"
    }
   ],
   "source": [
    "data_set2.shape"
   ]
  },
  {
   "cell_type": "code",
   "execution_count": 7,
   "id": "38111ad3",
   "metadata": {},
   "outputs": [],
   "source": [
    "data_set = data_set1.append(data_set2)"
   ]
  },
  {
   "cell_type": "code",
   "execution_count": 8,
   "id": "b0a63ce6",
   "metadata": {},
   "outputs": [
    {
     "data": {
      "text/plain": [
       "(48000, 9)"
      ]
     },
     "execution_count": 8,
     "metadata": {},
     "output_type": "execute_result"
    }
   ],
   "source": [
    "data_set.shape"
   ]
  },
  {
   "cell_type": "code",
   "execution_count": 9,
   "id": "d99ce600",
   "metadata": {},
   "outputs": [],
   "source": [
    "data_set.columns = ['uid',\n",
    "                   'publisher',\n",
    "                   'title',\n",
    "                   'summary',\n",
    "                   'content',\n",
    "                   'content_url',\n",
    "                    'update_at',\n",
    "                   'importance',\n",
    "                   'polarity']"
   ]
  },
  {
   "cell_type": "code",
   "execution_count": 10,
   "id": "3c46aab6",
   "metadata": {},
   "outputs": [
    {
     "data": {
      "text/html": [
       "<div>\n",
       "<style scoped>\n",
       "    .dataframe tbody tr th:only-of-type {\n",
       "        vertical-align: middle;\n",
       "    }\n",
       "\n",
       "    .dataframe tbody tr th {\n",
       "        vertical-align: top;\n",
       "    }\n",
       "\n",
       "    .dataframe thead th {\n",
       "        text-align: right;\n",
       "    }\n",
       "</style>\n",
       "<table border=\"1\" class=\"dataframe\">\n",
       "  <thead>\n",
       "    <tr style=\"text-align: right;\">\n",
       "      <th></th>\n",
       "      <th>uid</th>\n",
       "      <th>publisher</th>\n",
       "      <th>title</th>\n",
       "      <th>summary</th>\n",
       "      <th>content</th>\n",
       "      <th>content_url</th>\n",
       "      <th>update_at</th>\n",
       "      <th>importance</th>\n",
       "      <th>polarity</th>\n",
       "    </tr>\n",
       "  </thead>\n",
       "  <tbody>\n",
       "    <tr>\n",
       "      <th>0</th>\n",
       "      <td>354652739944452421</td>\n",
       "      <td>뉴스1</td>\n",
       "      <td>김진석 CJ헬로비전 대표 '주주총회 70%이상 찬성으로 합병안 가결'</td>\n",
       "      <td>임세영 기자 = 김진석 CJ헬로비전 대표가 26일 오전 서울 마포구 상암동 누리꿈스...</td>\n",
       "      <td>임세영 기자 = 김진석 CJ헬로비전 대표가 26일 오전 서울 마포구 상암동 누리꿈스...</td>\n",
       "      <td>http://news.naver.com/main/read.nhn?mode=LSD&amp;m...</td>\n",
       "      <td>2016-02-26T10:25:00</td>\n",
       "      <td>+</td>\n",
       "      <td>+</td>\n",
       "    </tr>\n",
       "  </tbody>\n",
       "</table>\n",
       "</div>"
      ],
      "text/plain": [
       "                  uid publisher                                   title  \\\n",
       "0  354652739944452421       뉴스1  김진석 CJ헬로비전 대표 '주주총회 70%이상 찬성으로 합병안 가결'   \n",
       "\n",
       "                                             summary  \\\n",
       "0  임세영 기자 = 김진석 CJ헬로비전 대표가 26일 오전 서울 마포구 상암동 누리꿈스...   \n",
       "\n",
       "                                             content  \\\n",
       "0  임세영 기자 = 김진석 CJ헬로비전 대표가 26일 오전 서울 마포구 상암동 누리꿈스...   \n",
       "\n",
       "                                         content_url            update_at  \\\n",
       "0  http://news.naver.com/main/read.nhn?mode=LSD&m...  2016-02-26T10:25:00   \n",
       "\n",
       "  importance polarity  \n",
       "0          +        +  "
      ]
     },
     "execution_count": 10,
     "metadata": {},
     "output_type": "execute_result"
    }
   ],
   "source": [
    "data_set.head(1)"
   ]
  },
  {
   "cell_type": "code",
   "execution_count": 128,
   "id": "e7c4953b",
   "metadata": {},
   "outputs": [
    {
     "data": {
      "text/plain": [
       "-    23854\n",
       "+    14656\n",
       "Name: importance, dtype: int64"
      ]
     },
     "execution_count": 128,
     "metadata": {},
     "output_type": "execute_result"
    }
   ],
   "source": [
    "data_set_cleaned1 = data_set[data_set.importance.notnull()]\n",
    "# data_set_cleaned1.shape\n",
    "data_set_cleaned1_2 = data_set_cleaned1[data_set_cleaned1.polarity.notnull()]\n",
    "data_set_cleaned2 = data_set_cleaned1_2[data_set_cleaned1_2.importance != '0']\n",
    "# data_set_cleaned2.shape\n",
    "data_set_cleaned2['importance'].value_counts()"
   ]
  },
  {
   "cell_type": "code",
   "execution_count": 125,
   "id": "68dbc32b",
   "metadata": {},
   "outputs": [
    {
     "data": {
      "text/html": [
       "<div>\n",
       "<style scoped>\n",
       "    .dataframe tbody tr th:only-of-type {\n",
       "        vertical-align: middle;\n",
       "    }\n",
       "\n",
       "    .dataframe tbody tr th {\n",
       "        vertical-align: top;\n",
       "    }\n",
       "\n",
       "    .dataframe thead th {\n",
       "        text-align: right;\n",
       "    }\n",
       "</style>\n",
       "<table border=\"1\" class=\"dataframe\">\n",
       "  <thead>\n",
       "    <tr style=\"text-align: right;\">\n",
       "      <th></th>\n",
       "      <th>uid</th>\n",
       "      <th>publisher</th>\n",
       "      <th>title</th>\n",
       "      <th>summary</th>\n",
       "      <th>content</th>\n",
       "      <th>content_url</th>\n",
       "      <th>update_at</th>\n",
       "      <th>importance</th>\n",
       "      <th>polarity</th>\n",
       "    </tr>\n",
       "  </thead>\n",
       "  <tbody>\n",
       "    <tr>\n",
       "      <th>0</th>\n",
       "      <td>354652739944452421</td>\n",
       "      <td>뉴스1</td>\n",
       "      <td>김진석 CJ헬로비전 대표 '주주총회 70%이상 찬성으로 합병안 가결'</td>\n",
       "      <td>임세영 기자 = 김진석 CJ헬로비전 대표가 26일 오전 서울 마포구 상암동 누리꿈스...</td>\n",
       "      <td>임세영 기자 = 김진석 CJ헬로비전 대표가 26일 오전 서울 마포구 상암동 누리꿈스...</td>\n",
       "      <td>http://news.naver.com/main/read.nhn?mode=LSD&amp;m...</td>\n",
       "      <td>2016-02-26T10:25:00</td>\n",
       "      <td>+</td>\n",
       "      <td>+</td>\n",
       "    </tr>\n",
       "  </tbody>\n",
       "</table>\n",
       "</div>"
      ],
      "text/plain": [
       "                  uid publisher                                   title  \\\n",
       "0  354652739944452421       뉴스1  김진석 CJ헬로비전 대표 '주주총회 70%이상 찬성으로 합병안 가결'   \n",
       "\n",
       "                                             summary  \\\n",
       "0  임세영 기자 = 김진석 CJ헬로비전 대표가 26일 오전 서울 마포구 상암동 누리꿈스...   \n",
       "\n",
       "                                             content  \\\n",
       "0  임세영 기자 = 김진석 CJ헬로비전 대표가 26일 오전 서울 마포구 상암동 누리꿈스...   \n",
       "\n",
       "                                         content_url            update_at  \\\n",
       "0  http://news.naver.com/main/read.nhn?mode=LSD&m...  2016-02-26T10:25:00   \n",
       "\n",
       "  importance polarity  \n",
       "0          +        +  "
      ]
     },
     "execution_count": 125,
     "metadata": {},
     "output_type": "execute_result"
    }
   ],
   "source": [
    "data_set_cleaned2.head(1)"
   ]
  },
  {
   "cell_type": "code",
   "execution_count": 13,
   "id": "a95e34ce",
   "metadata": {},
   "outputs": [],
   "source": [
    "from sklearn.preprocessing import LabelEncoder"
   ]
  },
  {
   "cell_type": "code",
   "execution_count": 129,
   "id": "8207ed94",
   "metadata": {},
   "outputs": [
    {
     "name": "stderr",
     "output_type": "stream",
     "text": [
      "<ipython-input-129-7b66ed1a4174>:5: SettingWithCopyWarning: \n",
      "A value is trying to be set on a copy of a slice from a DataFrame.\n",
      "Try using .loc[row_indexer,col_indexer] = value instead\n",
      "\n",
      "See the caveats in the documentation: https://pandas.pydata.org/pandas-docs/stable/user_guide/indexing.html#returning-a-view-versus-a-copy\n",
      "  data_set_cleaned2['importance_int'] = encoder.transform(data_set_cleaned2['importance'])\n",
      "<ipython-input-129-7b66ed1a4174>:8: SettingWithCopyWarning: \n",
      "A value is trying to be set on a copy of a slice from a DataFrame.\n",
      "Try using .loc[row_indexer,col_indexer] = value instead\n",
      "\n",
      "See the caveats in the documentation: https://pandas.pydata.org/pandas-docs/stable/user_guide/indexing.html#returning-a-view-versus-a-copy\n",
      "  data_set_cleaned2['polarity_int'] = encoder.transform(data_set_cleaned2['polarity'])\n"
     ]
    }
   ],
   "source": [
    "encoder = LabelEncoder()\n",
    "\n",
    "# importance\n",
    "encoder.fit(data_set_cleaned2['importance'])\n",
    "data_set_cleaned2['importance_int'] = encoder.transform(data_set_cleaned2['importance'])\n",
    "# polarity\n",
    "encoder.fit(data_set_cleaned2['polarity'])\n",
    "data_set_cleaned2['polarity_int'] = encoder.transform(data_set_cleaned2['polarity'])"
   ]
  },
  {
   "cell_type": "code",
   "execution_count": 130,
   "id": "007589c1",
   "metadata": {},
   "outputs": [
    {
     "data": {
      "text/plain": [
       "{0: '+', 1: '-', 2: '0'}"
      ]
     },
     "execution_count": 130,
     "metadata": {},
     "output_type": "execute_result"
    }
   ],
   "source": [
    "mapping = dict(zip(range(len(encoder.classes_)), encoder.classes_))\n",
    "mapping"
   ]
  },
  {
   "cell_type": "code",
   "execution_count": 131,
   "id": "51004b14",
   "metadata": {},
   "outputs": [
    {
     "data": {
      "text/plain": [
       "-    23854\n",
       "+    14656\n",
       "Name: importance, dtype: int64"
      ]
     },
     "execution_count": 131,
     "metadata": {},
     "output_type": "execute_result"
    }
   ],
   "source": [
    "data_set_cleaned2['importance'].value_counts()"
   ]
  },
  {
   "cell_type": "code",
   "execution_count": 171,
   "id": "dc77a511",
   "metadata": {},
   "outputs": [
    {
     "name": "stderr",
     "output_type": "stream",
     "text": [
      "<ipython-input-171-88e4bed54ae8>:1: SettingWithCopyWarning: \n",
      "A value is trying to be set on a copy of a slice from a DataFrame.\n",
      "Try using .loc[row_indexer,col_indexer] = value instead\n",
      "\n",
      "See the caveats in the documentation: https://pandas.pydata.org/pandas-docs/stable/user_guide/indexing.html#returning-a-view-versus-a-copy\n",
      "  data_set_cleaned2['importance_int']=data_set_cleaned2['importance_int'].astype(np.int64)\n"
     ]
    }
   ],
   "source": [
    "data_set_cleaned2['importance_int']=data_set_cleaned2['importance_int'].astype(np.int64)"
   ]
  },
  {
   "cell_type": "code",
   "execution_count": 172,
   "id": "d1dab51b",
   "metadata": {},
   "outputs": [
    {
     "data": {
      "text/plain": [
       "0        0\n",
       "2        1\n",
       "3        1\n",
       "4        1\n",
       "7        0\n",
       "        ..\n",
       "34495    1\n",
       "34496    1\n",
       "34497    1\n",
       "34498    1\n",
       "34499    1\n",
       "Name: importance_int, Length: 38510, dtype: int64"
      ]
     },
     "execution_count": 172,
     "metadata": {},
     "output_type": "execute_result"
    }
   ],
   "source": [
    "data_set_cleaned2['importance_int']"
   ]
  },
  {
   "cell_type": "code",
   "execution_count": 132,
   "id": "6612627a",
   "metadata": {},
   "outputs": [
    {
     "data": {
      "text/plain": [
       "1    23854\n",
       "0    14656\n",
       "Name: importance_int, dtype: int64"
      ]
     },
     "execution_count": 132,
     "metadata": {},
     "output_type": "execute_result"
    }
   ],
   "source": [
    "data_set_cleaned2['importance_int'].value_counts()"
   ]
  },
  {
   "cell_type": "code",
   "execution_count": 18,
   "id": "aceb1e0b",
   "metadata": {},
   "outputs": [
    {
     "data": {
      "text/plain": [
       "0    25776\n",
       "+    14702\n",
       "-     6751\n",
       "Name: polarity, dtype: int64"
      ]
     },
     "execution_count": 18,
     "metadata": {},
     "output_type": "execute_result"
    }
   ],
   "source": [
    "data_set_cleaned2['polarity'].value_counts()"
   ]
  },
  {
   "cell_type": "code",
   "execution_count": 19,
   "id": "fc7a1058",
   "metadata": {},
   "outputs": [
    {
     "data": {
      "text/plain": [
       "2    25776\n",
       "0    14702\n",
       "1     6751\n",
       "Name: polarity_int, dtype: int64"
      ]
     },
     "execution_count": 19,
     "metadata": {},
     "output_type": "execute_result"
    }
   ],
   "source": [
    "data_set_cleaned2['polarity_int'].value_counts()"
   ]
  },
  {
   "cell_type": "markdown",
   "id": "37d8e1c4",
   "metadata": {},
   "source": [
    "# Classifier 3"
   ]
  },
  {
   "cell_type": "markdown",
   "id": "d6a5e7da",
   "metadata": {},
   "source": [
    "### https://zzaebok.github.io/deep_learning/nlp/Bert-for-classification/"
   ]
  },
  {
   "cell_type": "code",
   "execution_count": 20,
   "id": "f50e4135",
   "metadata": {},
   "outputs": [],
   "source": [
    "# pip install pytorch-transformers"
   ]
  },
  {
   "cell_type": "code",
   "execution_count": 175,
   "id": "659429c7",
   "metadata": {},
   "outputs": [],
   "source": [
    "import numpy as np\n",
    "import pandas as pd\n",
    "import torch\n",
    "from torch.utils.data import Dataset, DataLoader\n",
    "from pytorch_transformers import BertTokenizer, BertForSequenceClassification, BertConfig\n",
    "from torch.optim import Adam\n",
    "import torch.nn.functional as F"
   ]
  },
  {
   "cell_type": "code",
   "execution_count": 176,
   "id": "bee01921",
   "metadata": {},
   "outputs": [
    {
     "data": {
      "text/html": [
       "<div>\n",
       "<style scoped>\n",
       "    .dataframe tbody tr th:only-of-type {\n",
       "        vertical-align: middle;\n",
       "    }\n",
       "\n",
       "    .dataframe tbody tr th {\n",
       "        vertical-align: top;\n",
       "    }\n",
       "\n",
       "    .dataframe thead th {\n",
       "        text-align: right;\n",
       "    }\n",
       "</style>\n",
       "<table border=\"1\" class=\"dataframe\">\n",
       "  <thead>\n",
       "    <tr style=\"text-align: right;\">\n",
       "      <th></th>\n",
       "      <th>uid</th>\n",
       "      <th>publisher</th>\n",
       "      <th>title</th>\n",
       "      <th>summary</th>\n",
       "      <th>content</th>\n",
       "      <th>content_url</th>\n",
       "      <th>update_at</th>\n",
       "      <th>importance</th>\n",
       "      <th>polarity</th>\n",
       "      <th>importance_int</th>\n",
       "      <th>polarity_int</th>\n",
       "    </tr>\n",
       "  </thead>\n",
       "  <tbody>\n",
       "    <tr>\n",
       "      <th>0</th>\n",
       "      <td>354652739944452421</td>\n",
       "      <td>뉴스1</td>\n",
       "      <td>김진석 CJ헬로비전 대표 '주주총회 70%이상 찬성으로 합병안 가결'</td>\n",
       "      <td>임세영 기자 = 김진석 CJ헬로비전 대표가 26일 오전 서울 마포구 상암동 누리꿈스...</td>\n",
       "      <td>임세영 기자 = 김진석 CJ헬로비전 대표가 26일 오전 서울 마포구 상암동 누리꿈스...</td>\n",
       "      <td>http://news.naver.com/main/read.nhn?mode=LSD&amp;m...</td>\n",
       "      <td>2016-02-26T10:25:00</td>\n",
       "      <td>+</td>\n",
       "      <td>+</td>\n",
       "      <td>0</td>\n",
       "      <td>0</td>\n",
       "    </tr>\n",
       "  </tbody>\n",
       "</table>\n",
       "</div>"
      ],
      "text/plain": [
       "                  uid publisher                                   title  \\\n",
       "0  354652739944452421       뉴스1  김진석 CJ헬로비전 대표 '주주총회 70%이상 찬성으로 합병안 가결'   \n",
       "\n",
       "                                             summary  \\\n",
       "0  임세영 기자 = 김진석 CJ헬로비전 대표가 26일 오전 서울 마포구 상암동 누리꿈스...   \n",
       "\n",
       "                                             content  \\\n",
       "0  임세영 기자 = 김진석 CJ헬로비전 대표가 26일 오전 서울 마포구 상암동 누리꿈스...   \n",
       "\n",
       "                                         content_url            update_at  \\\n",
       "0  http://news.naver.com/main/read.nhn?mode=LSD&m...  2016-02-26T10:25:00   \n",
       "\n",
       "  importance polarity  importance_int  polarity_int  \n",
       "0          +        +               0             0  "
      ]
     },
     "execution_count": 176,
     "metadata": {},
     "output_type": "execute_result"
    }
   ],
   "source": [
    "data_set_cleaned2.head(1)"
   ]
  },
  {
   "cell_type": "code",
   "execution_count": 177,
   "id": "27af9ea5",
   "metadata": {},
   "outputs": [],
   "source": [
    "new_data = data_set_cleaned2[['content', 'importance_int']]"
   ]
  },
  {
   "cell_type": "code",
   "execution_count": 178,
   "id": "fb05e6dd",
   "metadata": {},
   "outputs": [
    {
     "data": {
      "text/plain": [
       "(38510, 2)"
      ]
     },
     "execution_count": 178,
     "metadata": {},
     "output_type": "execute_result"
    }
   ],
   "source": [
    "new_data.shape"
   ]
  },
  {
   "cell_type": "code",
   "execution_count": 179,
   "id": "8738f41d",
   "metadata": {},
   "outputs": [
    {
     "name": "stdout",
     "output_type": "stream",
     "text": [
      "train shape is: 30808\n",
      "test shape is: 7702\n"
     ]
    }
   ],
   "source": [
    "from sklearn.model_selection import train_test_split\n",
    "train, test = train_test_split(new_data, test_size=0.2, random_state=42)\n",
    "print(\"train shape is:\", len(train))\n",
    "print(\"test shape is:\", len(test))"
   ]
  },
  {
   "cell_type": "code",
   "execution_count": 180,
   "id": "42c6a26e",
   "metadata": {},
   "outputs": [],
   "source": [
    "class AirDataset(Dataset):\n",
    "    ''' Dataset '''\n",
    "    def __init__(self, df):\n",
    "        self.df = df\n",
    "\n",
    "    def __len__(self):\n",
    "        return len(self.df)\n",
    "\n",
    "    def __getitem__(self, idx):\n",
    "        text = self.df.iloc[idx, 0]\n",
    "        label = self.df.iloc[idx, 1]\n",
    "        return text, label"
   ]
  },
  {
   "cell_type": "code",
   "execution_count": 192,
   "id": "54210220",
   "metadata": {},
   "outputs": [],
   "source": [
    "Air_train_dataset = AirDataset(train[:20])\n",
    "train_loader = DataLoader(Air_train_dataset,\n",
    "                         batch_size = 10,\n",
    "                         shuffle = True,\n",
    "                         num_workers = 0)"
   ]
  },
  {
   "cell_type": "code",
   "execution_count": 193,
   "id": "2b59bcc0",
   "metadata": {},
   "outputs": [],
   "source": [
    "tokenizer = BertTokenizer.from_pretrained('bert-base-multilingual-cased')\n",
    "model = BertForSequenceClassification.from_pretrained('bert-base-multilingual-cased')"
   ]
  },
  {
   "cell_type": "code",
   "execution_count": 194,
   "id": "e2d2bfe5",
   "metadata": {},
   "outputs": [
    {
     "name": "stderr",
     "output_type": "stream",
     "text": [
      "Token indices sequence length is longer than the specified maximum sequence length for this model (861 > 512). Running this sequence through the model will result in indexing errors\n",
      "Token indices sequence length is longer than the specified maximum sequence length for this model (1948 > 512). Running this sequence through the model will result in indexing errors\n",
      "Token indices sequence length is longer than the specified maximum sequence length for this model (669 > 512). Running this sequence through the model will result in indexing errors\n",
      "<ipython-input-194-8f6d013fa936>:25: UserWarning: To copy construct from a tensor, it is recommended to use sourceTensor.clone().detach() or sourceTensor.clone().detach().requires_grad_(True), rather than torch.tensor(sourceTensor).\n",
      "  labels = torch.tensor(label)\n",
      "<ipython-input-194-8f6d013fa936>:29: UserWarning: Implicit dimension choice for softmax has been deprecated. Change the call to include dim=X as an argument.\n",
      "  pred = torch.argmax(F.softmax(logits), dim=1)\n",
      "Token indices sequence length is longer than the specified maximum sequence length for this model (828 > 512). Running this sequence through the model will result in indexing errors\n",
      "Token indices sequence length is longer than the specified maximum sequence length for this model (938 > 512). Running this sequence through the model will result in indexing errors\n",
      "Token indices sequence length is longer than the specified maximum sequence length for this model (744 > 512). Running this sequence through the model will result in indexing errors\n"
     ]
    },
    {
     "name": "stdout",
     "output_type": "stream",
     "text": [
      "[Epoch 1/1] Iteration 500 -> Train Loss: 0.0014, Accuracy: 0.400\n"
     ]
    }
   ],
   "source": [
    "optimizer = Adam(model.parameters(), lr=1e-6)\n",
    "\n",
    "itr = 500\n",
    "p_itr = 500\n",
    "epochs = 1\n",
    "total_loss = 0\n",
    "total_len = 0\n",
    "total_correct = 0\n",
    "\n",
    "\n",
    "model.train()\n",
    "for epoch in range(epochs):\n",
    "    \n",
    "    for text, label in train_loader:\n",
    "        optimizer.zero_grad()\n",
    "        \n",
    "        # encoding and zero padding\n",
    "        encoded_list = [tokenizer.encode(t, add_special_tokens=True) for t in text]\n",
    "        # padded_list =  [e + [0] * (119547-len(e)) for e in encoded_list]\n",
    "        padded_list =  [e[:min(len(e), 512)] + [0] * (512-len(e[:min(512, len(e))])) for e in encoded_list]\n",
    "        \n",
    "        sample = torch.tensor(padded_list)\n",
    "        # sample, label = sample.to(device), label.to(device)\n",
    "        # sample, label = sample.to(device), label.to(device)\n",
    "        labels = torch.tensor(label)\n",
    "        outputs = model(sample, labels=labels)\n",
    "        loss, logits = outputs\n",
    "\n",
    "        pred = torch.argmax(F.softmax(logits), dim=1)\n",
    "        correct = pred.eq(labels)\n",
    "        total_correct += correct.sum().item()\n",
    "        total_len += len(labels)\n",
    "        total_loss += loss.item()\n",
    "        loss.backward()\n",
    "        optimizer.step()\n",
    "        \n",
    "        if itr % p_itr == 0:\n",
    "            print('[Epoch {}/{}] Iteration {} -> Train Loss: {:.4f}, Accuracy: {:.3f}'.format(epoch+1, epochs, itr, total_loss/p_itr, total_correct/total_len))\n",
    "            total_loss = 0\n",
    "            total_len = 0\n",
    "            total_correct = 0\n",
    "\n",
    "        itr+=1"
   ]
  },
  {
   "cell_type": "code",
   "execution_count": null,
   "id": "c39e2b50",
   "metadata": {},
   "outputs": [],
   "source": [
    "# evaluation\n",
    "model.eval()\n",
    "\n",
    "nsmc_eval_dataset = NsmcDataset(test_df)\n",
    "eval_loader = DataLoader(nsmc_eval_dataset, batch_size=2, shuffle=False, num_workers=2)\n",
    "\n",
    "total_loss = 0\n",
    "total_len = 0\n",
    "total_correct = 0\n",
    "\n",
    "for text, label in eval_loader:\n",
    "    encoded_list = [tokenizer.encode(t, add_special_tokens=True) for t in text]\n",
    "    padded_list =  [e + [0] * (512-len(e)) for e in encoded_list]\n",
    "    sample = torch.tensor(padded_list)\n",
    "    sample, label = sample.to(device), label.to(device)\n",
    "    labels = torch.tensor(label)\n",
    "    outputs = model(sample, labels=labels)\n",
    "    _, logits = outputs\n",
    "\n",
    "    pred = torch.argmax(F.softmax(logits), dim=1)\n",
    "    correct = pred.eq(labels)\n",
    "    total_correct += correct.sum().item()\n",
    "    total_len += len(labels)\n",
    "\n",
    "print('Test accuracy: ', total_correct / total_len)"
   ]
  }
 ],
 "metadata": {
  "kernelspec": {
   "display_name": "Python 3",
   "language": "python",
   "name": "python3"
  },
  "language_info": {
   "codemirror_mode": {
    "name": "ipython",
    "version": 3
   },
   "file_extension": ".py",
   "mimetype": "text/x-python",
   "name": "python",
   "nbconvert_exporter": "python",
   "pygments_lexer": "ipython3",
   "version": "3.8.8"
  }
 },
 "nbformat": 4,
 "nbformat_minor": 5
}
