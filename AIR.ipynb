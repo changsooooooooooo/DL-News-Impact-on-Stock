{
  "nbformat": 4,
  "nbformat_minor": 0,
  "metadata": {
    "colab": {
      "name": "AIR.ipynb",
      "provenance": [],
      "collapsed_sections": [],
      "authorship_tag": "ABX9TyNqdg17qbaq7JdIO8y38G+r",
      "include_colab_link": true
    },
    "kernelspec": {
      "name": "python3",
      "display_name": "Python 3"
    },
    "language_info": {
      "name": "python"
    },
    "accelerator": "GPU"
  },
  "cells": [
    {
      "cell_type": "markdown",
      "metadata": {
        "id": "view-in-github",
        "colab_type": "text"
      },
      "source": [
        "<a href=\"https://colab.research.google.com/github/changsooooooooooo/DL-News-Impact-on-Stock/blob/kaylie/AIR.ipynb\" target=\"_parent\"><img src=\"https://colab.research.google.com/assets/colab-badge.svg\" alt=\"Open In Colab\"/></a>"
      ]
    },
    {
      "cell_type": "code",
      "metadata": {
        "id": "AQ7zoCy9d8rp"
      },
      "source": [
        "pip install kobert_transformers"
      ],
      "execution_count": null,
      "outputs": []
    },
    {
      "cell_type": "code",
      "metadata": {
        "id": "yJgA6lWIgiFC"
      },
      "source": [
        "import os\n",
        "import re\n",
        "import torch\n",
        "import pandas as pd\n",
        "import torch.nn as nn\n",
        "import numpy as np\n",
        "from google.colab import drive\n",
        "from kobert_transformers import *\n",
        "from transformers import BertModel\n",
        "from sklearn.feature_extraction.text import TfidfVectorizer\n",
        "from collections import defaultdict\n",
        "drive.mount('/content/gdrive/')"
      ],
      "execution_count": null,
      "outputs": []
    },
    {
      "cell_type": "markdown",
      "metadata": {
        "id": "8XOJ245EdDCQ"
      },
      "source": [
        "###Tokenizing Additional"
      ]
    },
    {
      "cell_type": "code",
      "metadata": {
        "id": "PFeUhVqJdocm"
      },
      "source": [
        "batch_size = 16\n",
        "epoch = 10\n",
        "max_len = 512"
      ],
      "execution_count": null,
      "outputs": []
    },
    {
      "cell_type": "code",
      "metadata": {
        "id": "kVndl0f7XQff"
      },
      "source": [
        "class TokenMaking():\n",
        "  def __init__(self, data):\n",
        "    self.data = data\n",
        "\n",
        "  def attention_mask(self):\n",
        "    answer = torch.zeros((batch_size, max_len), dtype = torch.long)\n",
        "    answer[:, :len(self.data)] = torch.from_numpy(np.random.choice(2, size=(batch_size, len(self.data)), p = [0.8, 0.2]))\n",
        "    return answer.to(\"cuda\")\n",
        "\n",
        "  def token_type_id(self):\n",
        "    return torch.zeros((batch_size, ), dtype=torch.long, device='cuda:0')"
      ],
      "execution_count": null,
      "outputs": []
    },
    {
      "cell_type": "code",
      "metadata": {
        "id": "CQmY6t_rXSA4"
      },
      "source": [
        "def make_ids(tokenizer, string_):\n",
        "  tokenized_string = tokenizer.tokenize(string_)\n",
        "  return tokenizer.convert_tokens_to_ids(tokenized_string)"
      ],
      "execution_count": null,
      "outputs": []
    },
    {
      "cell_type": "code",
      "metadata": {
        "id": "fLLz8r1aeybd"
      },
      "source": [
        "os.chdir(\"./gdrive/MyDrive/AIR\")"
      ],
      "execution_count": null,
      "outputs": []
    },
    {
      "cell_type": "code",
      "metadata": {
        "id": "5yx8sMPKfC_G"
      },
      "source": [
        "data = [pd.read_excel(file) for file in os.listdir() if file.endswith(\"xlsx\")]"
      ],
      "execution_count": null,
      "outputs": []
    },
    {
      "cell_type": "code",
      "metadata": {
        "id": "LiNSvBMhfFOG"
      },
      "source": [
        "tokenizer = get_tokenizer()"
      ],
      "execution_count": null,
      "outputs": []
    },
    {
      "cell_type": "code",
      "metadata": {
        "id": "3dE-uPVQfIPB"
      },
      "source": [
        "make_ids(tokenizer, \"[CLS] \"+data[0].loc[10][\"title\"]+\" [SEP]\")"
      ],
      "execution_count": null,
      "outputs": []
    },
    {
      "cell_type": "code",
      "metadata": {
        "id": "rl_FwDIhBXuO"
      },
      "source": [
        "model = BertModel.from_pretrained(\"monologg/kobert\")"
      ],
      "execution_count": null,
      "outputs": []
    },
    {
      "cell_type": "markdown",
      "metadata": {
        "id": "13rY1u40XVZc"
      },
      "source": [
        "###Simple Preprocessing"
      ]
    },
    {
      "cell_type": "code",
      "metadata": {
        "id": "5YmN1bJYEUhC"
      },
      "source": [
        "data[0].dropna(subset=[\"content\", \"summary\"], inplace = True)\n",
        "data[1].dropna(subset=[\"content\", \"summary\"], inplace = True)\n",
        "for i in range(2):\n",
        "  data[i].loc[:, \"content\"].replace('[-=+,#/\\?:^$@*\\\"※~&%ㆍ!』\\\\‘|\\[\\]\\<\\>`\\'…》]', \" \", regex=True, inplace=True)\n",
        "  data[i].loc[:, \"content\"].replace('\\n', \"\", regex=True, inplace=True)\n",
        "  data[i].loc[:, \"summary\"].replace('[-=+,#/\\?:^$@*\\\"※~&%ㆍ!』\\\\‘|\\[\\]\\<\\>`\\'…》]', \" \", regex=True, inplace=True)\n",
        "  data[i].loc[:, \"summary\"].replace('\\n', \"\", regex=True, inplace=True)\n",
        "  data[i].loc[:, \"content\"].replace('[가-힣]+ 기자', \"\", regex=True, inplace=True)\n",
        "  data[i].loc[:, \"summary\"].replace('[가-힣]+ 기자', \"\", regex=True, inplace=True)\n",
        "  data[i].loc[:, \"content\"].replace('[가-힣]+ 선임기자', \"\", regex=True, inplace=True)\n",
        "  data[i].loc[:, \"summary\"].replace('[가-힣]+ 선임기자', \"\", regex=True, inplace=True)"
      ],
      "execution_count": null,
      "outputs": []
    },
    {
      "cell_type": "code",
      "metadata": {
        "id": "z_kgJ6CTbhYb"
      },
      "source": [
        ""
      ],
      "execution_count": null,
      "outputs": []
    }
  ]
}