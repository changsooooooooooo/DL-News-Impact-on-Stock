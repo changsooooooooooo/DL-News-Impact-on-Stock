{
 "cells": [
  {
   "cell_type": "code",
   "execution_count": null,
   "id": "6a874166",
   "metadata": {},
   "outputs": [],
   "source": [
    "# packages\n",
    "import os\n",
    "import torch\n",
    "import pandas as pd\n",
    "# from transformers import BertModel, DistilBertModel\n",
    "from tqdm import tqdm\n",
    "from tqdm.notebook import tqdm\n",
    "from torch.utils.data import TensorDataset\n",
    "# from transformers import BertForSequenceClassification"
   ]
  },
  {
   "cell_type": "code",
   "execution_count": null,
   "id": "ac278334",
   "metadata": {},
   "outputs": [],
   "source": [
    "# import data\n",
    "data_path = \"C:/Users/Administrator/Desktop/Work/2. 인공지능리서치AIR/2. data sets/1. input data\"\n",
    "file_name = \"merged_data_set_AIR.xlsx\"\n",
    "data_set = pd.read_excel(os.path.join(data_path, file_name))\n",
    "data_set.columns = ['no',\n",
    "                    'uid',\n",
    "                   'publisher',\n",
    "                   'title',\n",
    "                   'summary',\n",
    "                   'content',\n",
    "                   'content_url',\n",
    "                    'update_at',\n",
    "                   'importance',\n",
    "                   'polarity']\n",
    "data_set = data_set.reset_index()\n",
    "data_set['content'] = data_set['content'].astype(str)\n",
    "data_set.head(1)"
   ]
  },
  {
   "cell_type": "code",
   "execution_count": null,
   "id": "f8759e37",
   "metadata": {},
   "outputs": [],
   "source": [
    "data_set = data_set.dropna(subset = [\"importance\"])\n",
    "data_set = data_set.reset_index(drop = True)\n",
    "data_set['index'] = data_set.index\n",
    "data_set.shape"
   ]
  },
  {
   "cell_type": "code",
   "execution_count": null,
   "id": "4e9eff0c",
   "metadata": {},
   "outputs": [],
   "source": [
    "data_set.head(1)"
   ]
  },
  {
   "cell_type": "code",
   "execution_count": null,
   "id": "816d58a9",
   "metadata": {},
   "outputs": [],
   "source": [
    "data_set.tail(1)"
   ]
  },
  {
   "cell_type": "code",
   "execution_count": null,
   "id": "64b9169a",
   "metadata": {},
   "outputs": [],
   "source": [
    "# encoding the labels\n",
    "possible_labels = data_set.importance.unique()\n",
    "encoded_values = [1, 0, 2]\n",
    "\n",
    "label_dict = {}\n",
    "for index, possible_label in enumerate(possible_labels):\n",
    "    label_dict[possible_label] = encoded_values[index]\n",
    "label_dict"
   ]
  },
  {
   "cell_type": "code",
   "execution_count": null,
   "id": "19faf1b8",
   "metadata": {},
   "outputs": [],
   "source": [
    "data_set['label'] = data_set.importance.replace(label_dict)"
   ]
  },
  {
   "cell_type": "code",
   "execution_count": null,
   "id": "167f37b0",
   "metadata": {},
   "outputs": [],
   "source": [
    "data_set.index.values"
   ]
  },
  {
   "cell_type": "code",
   "execution_count": null,
   "id": "d920f174",
   "metadata": {},
   "outputs": [],
   "source": [
    "data_set.label.values"
   ]
  },
  {
   "cell_type": "code",
   "execution_count": null,
   "id": "359aa094",
   "metadata": {},
   "outputs": [],
   "source": [
    "# train and validation split\n",
    "from sklearn.model_selection import train_test_split\n",
    "\n",
    "X_train, X_val, y_train, y_val = train_test_split(data_set.index.values,\n",
    "                                                 data_set.label.values,\n",
    "                                                 test_size = 0.2,\n",
    "                                                 random_state = 42,\n",
    "                                                 stratify = data_set.label.values)\n",
    "data_set['data_type'] = ['not_set'] * data_set.shape[0]"
   ]
  },
  {
   "cell_type": "code",
   "execution_count": null,
   "id": "56e31ed3",
   "metadata": {},
   "outputs": [],
   "source": [
    "data_set.loc[X_train, 'data_type'] = 'train'\n",
    "data_set.loc[X_val, 'data_type'] = 'val'\n",
    "\n",
    "data_set.groupby(['importance', 'label', 'data_type']).count()"
   ]
  },
  {
   "cell_type": "code",
   "execution_count": null,
   "id": "5b4c4ee1",
   "metadata": {},
   "outputs": [],
   "source": []
  },
  {
   "cell_type": "code",
   "execution_count": null,
   "id": "94b32f99",
   "metadata": {},
   "outputs": [],
   "source": []
  },
  {
   "cell_type": "code",
   "execution_count": null,
   "id": "3630d718",
   "metadata": {},
   "outputs": [],
   "source": [
    "model = BertForSequenceClassification.from_pretrained(\"bert-base-uncased\",\n",
    "                                                      num_labels=len(label_dict),\n",
    "                                                      output_attentions=False,\n",
    "                                                      output_hidden_states=False)\n",
    "\n",
    "model.to(device)\n",
    "\n",
    "model.load_state_dict(torch.load('data_volume/finetuned_BERT_epoch_1.model', map_location=torch.device('cpu')))\n",
    "\n",
    "_, predictions, true_vals = evaluate(dataloader_validation)\n",
    "accuracy_per_class(predictions, true_vals)"
   ]
  }
 ],
 "metadata": {
  "kernelspec": {
   "display_name": "Python 3",
   "language": "python",
   "name": "python3"
  },
  "language_info": {
   "codemirror_mode": {
    "name": "ipython",
    "version": 3
   },
   "file_extension": ".py",
   "mimetype": "text/x-python",
   "name": "python",
   "nbconvert_exporter": "python",
   "pygments_lexer": "ipython3",
   "version": "3.8.8"
  },
  "toc": {
   "base_numbering": 1,
   "nav_menu": {},
   "number_sections": true,
   "sideBar": true,
   "skip_h1_title": false,
   "title_cell": "Table of Contents",
   "title_sidebar": "Contents",
   "toc_cell": false,
   "toc_position": {},
   "toc_section_display": true,
   "toc_window_display": false
  }
 },
 "nbformat": 4,
 "nbformat_minor": 5
}
