{
 "cells": [
  {
   "cell_type": "markdown",
   "id": "f5fe3393",
   "metadata": {},
   "source": [
    "# import packages"
   ]
  },
  {
   "cell_type": "code",
   "execution_count": 1,
   "id": "9323b854",
   "metadata": {},
   "outputs": [],
   "source": [
    "# !pip install transformers[torch]==4.3"
   ]
  },
  {
   "cell_type": "code",
   "execution_count": 2,
   "id": "f7cd4b88",
   "metadata": {},
   "outputs": [],
   "source": [
    "import os\n",
    "import torch\n",
    "import pandas as pd\n",
    "from transformers import BertModel, DistilBertModel\n",
    "from tqdm import tqdm\n",
    "# import kobert_tokenizer"
   ]
  },
  {
   "cell_type": "markdown",
   "id": "27dddc1c",
   "metadata": {},
   "source": [
    "# bring pre-trained kobert model"
   ]
  },
  {
   "cell_type": "code",
   "execution_count": 4,
   "id": "a0165a43",
   "metadata": {},
   "outputs": [],
   "source": [
    "# pretrained_bertmodel = BertModel.from_pretrained(\"monologg/kobert\")\n",
    "# 참고\n",
    "# 아레 코드랑 결과 같음\n",
    "# model_skt = BertModel.from_pretrained(\"skt/kobert-base-v1\")"
   ]
  },
  {
   "cell_type": "code",
   "execution_count": 3,
   "id": "d6ef7fd4",
   "metadata": {},
   "outputs": [
    {
     "data": {
      "text/plain": [
       "'C:\\\\Users\\\\Administrator\\\\Desktop\\\\Work\\\\2. 인공지능리서치AIR\\\\1. source code'"
      ]
     },
     "execution_count": 3,
     "metadata": {},
     "output_type": "execute_result"
    }
   ],
   "source": [
    "os.getcwd()"
   ]
  },
  {
   "cell_type": "markdown",
   "id": "a7d73904",
   "metadata": {},
   "source": [
    "# data sets"
   ]
  },
  {
   "cell_type": "code",
   "execution_count": 4,
   "id": "03859cc9",
   "metadata": {},
   "outputs": [
    {
     "data": {
      "text/plain": [
       "(48000, 10)"
      ]
     },
     "execution_count": 4,
     "metadata": {},
     "output_type": "execute_result"
    }
   ],
   "source": [
    "data_path = \"C:/Users/Administrator/Desktop/Work/2. 인공지능리서치AIR/2. data sets/1. input data\"\n",
    "file_name = \"merged_data_set_AIR.xlsx\"\n",
    "data_set = pd.read_excel(os.path.join(data_path, file_name))\n",
    "data_set.shape"
   ]
  },
  {
   "cell_type": "code",
   "execution_count": 5,
   "id": "d99ce600",
   "metadata": {},
   "outputs": [],
   "source": [
    "data_set.columns = ['no',\n",
    "                    'uid',\n",
    "                   'publisher',\n",
    "                   'title',\n",
    "                   'summary',\n",
    "                   'content',\n",
    "                   'content_url',\n",
    "                    'update_at',\n",
    "                   'importance',\n",
    "                   'polarity']\n",
    "data_set = data_set.reset_index()"
   ]
  },
  {
   "cell_type": "code",
   "execution_count": 6,
   "id": "3c46aab6",
   "metadata": {},
   "outputs": [
    {
     "data": {
      "text/html": [
       "<div>\n",
       "<style scoped>\n",
       "    .dataframe tbody tr th:only-of-type {\n",
       "        vertical-align: middle;\n",
       "    }\n",
       "\n",
       "    .dataframe tbody tr th {\n",
       "        vertical-align: top;\n",
       "    }\n",
       "\n",
       "    .dataframe thead th {\n",
       "        text-align: right;\n",
       "    }\n",
       "</style>\n",
       "<table border=\"1\" class=\"dataframe\">\n",
       "  <thead>\n",
       "    <tr style=\"text-align: right;\">\n",
       "      <th></th>\n",
       "      <th>index</th>\n",
       "      <th>no</th>\n",
       "      <th>uid</th>\n",
       "      <th>publisher</th>\n",
       "      <th>title</th>\n",
       "      <th>summary</th>\n",
       "      <th>content</th>\n",
       "      <th>content_url</th>\n",
       "      <th>update_at</th>\n",
       "      <th>importance</th>\n",
       "      <th>polarity</th>\n",
       "    </tr>\n",
       "  </thead>\n",
       "  <tbody>\n",
       "    <tr>\n",
       "      <th>0</th>\n",
       "      <td>0</td>\n",
       "      <td>0</td>\n",
       "      <td>354652739944452416</td>\n",
       "      <td>뉴스1</td>\n",
       "      <td>김진석 CJ헬로비전 대표 '주주총회 70%이상 찬성으로 합병안 가결'</td>\n",
       "      <td>임세영 기자 = 김진석 CJ헬로비전 대표가 26일 오전 서울 마포구 상암동 누리꿈스...</td>\n",
       "      <td>임세영 기자 = 김진석 CJ헬로비전 대표가 26일 오전 서울 마포구 상암동 누리꿈스...</td>\n",
       "      <td>http://news.naver.com/main/read.nhn?mode=LSD&amp;m...</td>\n",
       "      <td>2016-02-26T10:25:00</td>\n",
       "      <td>+</td>\n",
       "      <td>+</td>\n",
       "    </tr>\n",
       "  </tbody>\n",
       "</table>\n",
       "</div>"
      ],
      "text/plain": [
       "   index  no                 uid publisher  \\\n",
       "0      0   0  354652739944452416       뉴스1   \n",
       "\n",
       "                                    title  \\\n",
       "0  김진석 CJ헬로비전 대표 '주주총회 70%이상 찬성으로 합병안 가결'   \n",
       "\n",
       "                                             summary  \\\n",
       "0  임세영 기자 = 김진석 CJ헬로비전 대표가 26일 오전 서울 마포구 상암동 누리꿈스...   \n",
       "\n",
       "                                             content  \\\n",
       "0  임세영 기자 = 김진석 CJ헬로비전 대표가 26일 오전 서울 마포구 상암동 누리꿈스...   \n",
       "\n",
       "                                         content_url            update_at  \\\n",
       "0  http://news.naver.com/main/read.nhn?mode=LSD&m...  2016-02-26T10:25:00   \n",
       "\n",
       "  importance polarity  \n",
       "0          +        +  "
      ]
     },
     "execution_count": 6,
     "metadata": {},
     "output_type": "execute_result"
    }
   ],
   "source": [
    "data_set.head(1)"
   ]
  },
  {
   "cell_type": "code",
   "execution_count": 20,
   "id": "e7c4953b",
   "metadata": {},
   "outputs": [],
   "source": []
  },
  {
   "cell_type": "markdown",
   "id": "169dc0e5",
   "metadata": {},
   "source": [
    "# Tokenizer"
   ]
  },
  {
   "cell_type": "code",
   "execution_count": 7,
   "id": "22e434f6",
   "metadata": {},
   "outputs": [],
   "source": [
    "from kobert_transformers import get_tokenizer\n",
    "tokenizer = get_tokenizer()"
   ]
  },
  {
   "cell_type": "code",
   "execution_count": 8,
   "id": "0d11fb99",
   "metadata": {},
   "outputs": [
    {
     "data": {
      "text/plain": [
       "['[CLS]', '▁한국', '어', '▁모델', '을', '▁공유', '합니다', '.', '[SEP]']"
      ]
     },
     "execution_count": 8,
     "metadata": {},
     "output_type": "execute_result"
    }
   ],
   "source": [
    "tokenizer.tokenize(\"[CLS] 한국어 모델을 공유합니다. [SEP]\")"
   ]
  },
  {
   "cell_type": "markdown",
   "id": "80c74059",
   "metadata": {},
   "source": [
    "## For title"
   ]
  },
  {
   "cell_type": "code",
   "execution_count": 9,
   "id": "9bd45bf4",
   "metadata": {},
   "outputs": [
    {
     "name": "stderr",
     "output_type": "stream",
     "text": [
      "<ipython-input-9-ebfe296a4add>:2: SettingWithCopyWarning: \n",
      "A value is trying to be set on a copy of a slice from a DataFrame.\n",
      "Try using .loc[row_indexer,col_indexer] = value instead\n",
      "\n",
      "See the caveats in the documentation: https://pandas.pydata.org/pandas-docs/stable/user_guide/indexing.html#returning-a-view-versus-a-copy\n",
      "  data_set_for_title[\"token_len\"] = \"\"\n",
      "<ipython-input-9-ebfe296a4add>:3: SettingWithCopyWarning: \n",
      "A value is trying to be set on a copy of a slice from a DataFrame.\n",
      "Try using .loc[row_indexer,col_indexer] = value instead\n",
      "\n",
      "See the caveats in the documentation: https://pandas.pydata.org/pandas-docs/stable/user_guide/indexing.html#returning-a-view-versus-a-copy\n",
      "  data_set_for_title[\"tokenization\"] = \"\"\n"
     ]
    }
   ],
   "source": [
    "data_set_for_title = data_set[['uid', 'title']]\n",
    "data_set_for_title[\"token_len\"] = \"\"\n",
    "data_set_for_title[\"tokenization\"] = \"\"\n",
    "# data_set_for_title.reset_index()\n",
    "data_set_for_title = data_set_for_title.reset_index()"
   ]
  },
  {
   "cell_type": "code",
   "execution_count": 72,
   "id": "fb35dea0",
   "metadata": {},
   "outputs": [
    {
     "data": {
      "text/html": [
       "<div>\n",
       "<style scoped>\n",
       "    .dataframe tbody tr th:only-of-type {\n",
       "        vertical-align: middle;\n",
       "    }\n",
       "\n",
       "    .dataframe tbody tr th {\n",
       "        vertical-align: top;\n",
       "    }\n",
       "\n",
       "    .dataframe thead th {\n",
       "        text-align: right;\n",
       "    }\n",
       "</style>\n",
       "<table border=\"1\" class=\"dataframe\">\n",
       "  <thead>\n",
       "    <tr style=\"text-align: right;\">\n",
       "      <th></th>\n",
       "      <th>index</th>\n",
       "      <th>uid</th>\n",
       "      <th>title</th>\n",
       "      <th>token_len</th>\n",
       "      <th>tokenization</th>\n",
       "    </tr>\n",
       "  </thead>\n",
       "  <tbody>\n",
       "    <tr>\n",
       "      <th>0</th>\n",
       "      <td>0</td>\n",
       "      <td>354652739944452421</td>\n",
       "      <td>김진석 CJ헬로비전 대표 '주주총회 70%이상 찬성으로 합병안 가결'</td>\n",
       "      <td></td>\n",
       "      <td></td>\n",
       "    </tr>\n",
       "  </tbody>\n",
       "</table>\n",
       "</div>"
      ],
      "text/plain": [
       "   index                 uid                                   title  \\\n",
       "0      0  354652739944452421  김진석 CJ헬로비전 대표 '주주총회 70%이상 찬성으로 합병안 가결'   \n",
       "\n",
       "  token_len tokenization  \n",
       "0                         "
      ]
     },
     "execution_count": 72,
     "metadata": {},
     "output_type": "execute_result"
    }
   ],
   "source": [
    "data_set_for_title.head(1)"
   ]
  },
  {
   "cell_type": "code",
   "execution_count": 73,
   "id": "076accc8",
   "metadata": {},
   "outputs": [
    {
     "data": {
      "text/html": [
       "<div>\n",
       "<style scoped>\n",
       "    .dataframe tbody tr th:only-of-type {\n",
       "        vertical-align: middle;\n",
       "    }\n",
       "\n",
       "    .dataframe tbody tr th {\n",
       "        vertical-align: top;\n",
       "    }\n",
       "\n",
       "    .dataframe thead th {\n",
       "        text-align: right;\n",
       "    }\n",
       "</style>\n",
       "<table border=\"1\" class=\"dataframe\">\n",
       "  <thead>\n",
       "    <tr style=\"text-align: right;\">\n",
       "      <th></th>\n",
       "      <th>index</th>\n",
       "      <th>uid</th>\n",
       "      <th>title</th>\n",
       "      <th>token_len</th>\n",
       "      <th>tokenization</th>\n",
       "    </tr>\n",
       "  </thead>\n",
       "  <tbody>\n",
       "    <tr>\n",
       "      <th>47999</th>\n",
       "      <td>47999</td>\n",
       "      <td>659762898834428055</td>\n",
       "      <td>\"최신 갤럭시·아이폰, 4명 중 1명이 빌려쓴다\"</td>\n",
       "      <td></td>\n",
       "      <td></td>\n",
       "    </tr>\n",
       "  </tbody>\n",
       "</table>\n",
       "</div>"
      ],
      "text/plain": [
       "       index                 uid                        title token_len  \\\n",
       "47999  47999  659762898834428055  \"최신 갤럭시·아이폰, 4명 중 1명이 빌려쓴다\"             \n",
       "\n",
       "      tokenization  \n",
       "47999               "
      ]
     },
     "execution_count": 73,
     "metadata": {},
     "output_type": "execute_result"
    }
   ],
   "source": [
    "data_set_for_title.tail(1)"
   ]
  },
  {
   "cell_type": "code",
   "execution_count": 74,
   "id": "bdb66496",
   "metadata": {},
   "outputs": [
    {
     "name": "stderr",
     "output_type": "stream",
     "text": [
      "  0%|                                                                                        | 0/48000 [00:00<?, ?it/s]<ipython-input-74-9291174cddaf>:3: SettingWithCopyWarning: \n",
      "A value is trying to be set on a copy of a slice from a DataFrame\n",
      "\n",
      "See the caveats in the documentation: https://pandas.pydata.org/pandas-docs/stable/user_guide/indexing.html#returning-a-view-versus-a-copy\n",
      "  data_set_for_title[\"token_len\"][i] = len(tokenized)\n",
      "<ipython-input-74-9291174cddaf>:4: SettingWithCopyWarning: \n",
      "A value is trying to be set on a copy of a slice from a DataFrame\n",
      "\n",
      "See the caveats in the documentation: https://pandas.pydata.org/pandas-docs/stable/user_guide/indexing.html#returning-a-view-versus-a-copy\n",
      "  data_set_for_title[\"tokenization\"][i] = \",\".join(tokenized)\n",
      "100%|██████████████████████████████████████████████████████████████████████████| 48000/48000 [00:26<00:00, 1833.64it/s]\n"
     ]
    }
   ],
   "source": [
    "for i in tqdm(range(data_set_for_title.shape[0])):\n",
    "    tokenized = tokenizer.tokenize(str(data_set_for_title['title'][i]))\n",
    "    data_set_for_title[\"token_len\"][i] = len(tokenized)\n",
    "    data_set_for_title[\"tokenization\"][i] = \",\".join(tokenized)"
   ]
  },
  {
   "cell_type": "code",
   "execution_count": 75,
   "id": "16f684ce",
   "metadata": {},
   "outputs": [
    {
     "data": {
      "text/html": [
       "<div>\n",
       "<style scoped>\n",
       "    .dataframe tbody tr th:only-of-type {\n",
       "        vertical-align: middle;\n",
       "    }\n",
       "\n",
       "    .dataframe tbody tr th {\n",
       "        vertical-align: top;\n",
       "    }\n",
       "\n",
       "    .dataframe thead th {\n",
       "        text-align: right;\n",
       "    }\n",
       "</style>\n",
       "<table border=\"1\" class=\"dataframe\">\n",
       "  <thead>\n",
       "    <tr style=\"text-align: right;\">\n",
       "      <th></th>\n",
       "      <th>index</th>\n",
       "      <th>uid</th>\n",
       "      <th>title</th>\n",
       "      <th>token_len</th>\n",
       "      <th>tokenization</th>\n",
       "    </tr>\n",
       "  </thead>\n",
       "  <tbody>\n",
       "    <tr>\n",
       "      <th>0</th>\n",
       "      <td>0</td>\n",
       "      <td>354652739944452421</td>\n",
       "      <td>김진석 CJ헬로비전 대표 '주주총회 70%이상 찬성으로 합병안 가결'</td>\n",
       "      <td>22</td>\n",
       "      <td>▁김진,석,▁CJ,헬,로,비,전,▁대표,▁',주,주,총회,▁70%,이상,▁찬성,으로...</td>\n",
       "    </tr>\n",
       "    <tr>\n",
       "      <th>1</th>\n",
       "      <td>1</td>\n",
       "      <td>848994285528420888</td>\n",
       "      <td>[포토] LG유플러스 AR글라스 국내 최초 출시</td>\n",
       "      <td>13</td>\n",
       "      <td>▁[,포토,],▁LG,유플러스,▁,AR,글,라,스,▁국내,▁최초,▁출시</td>\n",
       "    </tr>\n",
       "  </tbody>\n",
       "</table>\n",
       "</div>"
      ],
      "text/plain": [
       "   index                 uid                                   title  \\\n",
       "0      0  354652739944452421  김진석 CJ헬로비전 대표 '주주총회 70%이상 찬성으로 합병안 가결'   \n",
       "1      1  848994285528420888              [포토] LG유플러스 AR글라스 국내 최초 출시   \n",
       "\n",
       "  token_len                                       tokenization  \n",
       "0        22  ▁김진,석,▁CJ,헬,로,비,전,▁대표,▁',주,주,총회,▁70%,이상,▁찬성,으로...  \n",
       "1        13            ▁[,포토,],▁LG,유플러스,▁,AR,글,라,스,▁국내,▁최초,▁출시  "
      ]
     },
     "execution_count": 75,
     "metadata": {},
     "output_type": "execute_result"
    }
   ],
   "source": [
    "data_set_for_title.head(2)"
   ]
  },
  {
   "cell_type": "code",
   "execution_count": 76,
   "id": "16f39a3c",
   "metadata": {},
   "outputs": [
    {
     "data": {
      "text/html": [
       "<div>\n",
       "<style scoped>\n",
       "    .dataframe tbody tr th:only-of-type {\n",
       "        vertical-align: middle;\n",
       "    }\n",
       "\n",
       "    .dataframe tbody tr th {\n",
       "        vertical-align: top;\n",
       "    }\n",
       "\n",
       "    .dataframe thead th {\n",
       "        text-align: right;\n",
       "    }\n",
       "</style>\n",
       "<table border=\"1\" class=\"dataframe\">\n",
       "  <thead>\n",
       "    <tr style=\"text-align: right;\">\n",
       "      <th></th>\n",
       "      <th>index</th>\n",
       "      <th>uid</th>\n",
       "      <th>title</th>\n",
       "      <th>token_len</th>\n",
       "      <th>tokenization</th>\n",
       "    </tr>\n",
       "  </thead>\n",
       "  <tbody>\n",
       "    <tr>\n",
       "      <th>47998</th>\n",
       "      <td>47998</td>\n",
       "      <td>885647782860427818</td>\n",
       "      <td>귀한 몸 된 갤럭신S20 울트라…유통망 불만 높아진다</td>\n",
       "      <td>20</td>\n",
       "      <td>▁귀,한,▁몸,▁된,▁,갤,럭,신,S,20,▁울,트,라,...,유통,망,▁불,만,▁...</td>\n",
       "    </tr>\n",
       "    <tr>\n",
       "      <th>47999</th>\n",
       "      <td>47999</td>\n",
       "      <td>659762898834428055</td>\n",
       "      <td>\"최신 갤럭시·아이폰, 4명 중 1명이 빌려쓴다\"</td>\n",
       "      <td>17</td>\n",
       "      <td>▁\",최,신,▁갤럭시,·,아이,폰,,,▁4,명,▁중,▁1,명이,▁빌려,쓴,다,\"</td>\n",
       "    </tr>\n",
       "  </tbody>\n",
       "</table>\n",
       "</div>"
      ],
      "text/plain": [
       "       index                 uid                          title token_len  \\\n",
       "47998  47998  885647782860427818  귀한 몸 된 갤럭신S20 울트라…유통망 불만 높아진다        20   \n",
       "47999  47999  659762898834428055    \"최신 갤럭시·아이폰, 4명 중 1명이 빌려쓴다\"        17   \n",
       "\n",
       "                                            tokenization  \n",
       "47998  ▁귀,한,▁몸,▁된,▁,갤,럭,신,S,20,▁울,트,라,...,유통,망,▁불,만,▁...  \n",
       "47999       ▁\",최,신,▁갤럭시,·,아이,폰,,,▁4,명,▁중,▁1,명이,▁빌려,쓴,다,\"  "
      ]
     },
     "execution_count": 76,
     "metadata": {},
     "output_type": "execute_result"
    }
   ],
   "source": [
    "data_set_for_title.tail(2)"
   ]
  },
  {
   "cell_type": "code",
   "execution_count": 67,
   "id": "af2841db",
   "metadata": {},
   "outputs": [
    {
     "data": {
      "text/plain": [
       "'C:\\\\Users\\\\Administrator\\\\Desktop\\\\Work\\\\2. 인공지능리서치AIR\\\\1. source code'"
      ]
     },
     "execution_count": 67,
     "metadata": {},
     "output_type": "execute_result"
    }
   ],
   "source": [
    "import os\n",
    "os.getcwd()"
   ]
  },
  {
   "cell_type": "code",
   "execution_count": 77,
   "id": "e29c1b89",
   "metadata": {},
   "outputs": [],
   "source": [
    "save_path = \"C:\\\\Users\\\\Administrator\\\\Desktop\\\\Work\\\\2. 인공지능리서치AIR\\\\2. data sets\\\\2. processed data\"\n",
    "data_set_for_title.to_excel(save_path + \"/tokenization_for_title.xlsx\")"
   ]
  },
  {
   "cell_type": "markdown",
   "id": "0106f1a1",
   "metadata": {},
   "source": [
    "## For summary"
   ]
  },
  {
   "cell_type": "code",
   "execution_count": 78,
   "id": "c9b97b29",
   "metadata": {},
   "outputs": [
    {
     "data": {
      "text/html": [
       "<div>\n",
       "<style scoped>\n",
       "    .dataframe tbody tr th:only-of-type {\n",
       "        vertical-align: middle;\n",
       "    }\n",
       "\n",
       "    .dataframe tbody tr th {\n",
       "        vertical-align: top;\n",
       "    }\n",
       "\n",
       "    .dataframe thead th {\n",
       "        text-align: right;\n",
       "    }\n",
       "</style>\n",
       "<table border=\"1\" class=\"dataframe\">\n",
       "  <thead>\n",
       "    <tr style=\"text-align: right;\">\n",
       "      <th></th>\n",
       "      <th>index</th>\n",
       "      <th>uid</th>\n",
       "      <th>publisher</th>\n",
       "      <th>title</th>\n",
       "      <th>summary</th>\n",
       "      <th>content</th>\n",
       "      <th>content_url</th>\n",
       "      <th>update_at</th>\n",
       "      <th>importance</th>\n",
       "      <th>polarity</th>\n",
       "    </tr>\n",
       "  </thead>\n",
       "  <tbody>\n",
       "    <tr>\n",
       "      <th>0</th>\n",
       "      <td>0</td>\n",
       "      <td>354652739944452421</td>\n",
       "      <td>뉴스1</td>\n",
       "      <td>김진석 CJ헬로비전 대표 '주주총회 70%이상 찬성으로 합병안 가결'</td>\n",
       "      <td>임세영 기자 = 김진석 CJ헬로비전 대표가 26일 오전 서울 마포구 상암동 누리꿈스...</td>\n",
       "      <td>임세영 기자 = 김진석 CJ헬로비전 대표가 26일 오전 서울 마포구 상암동 누리꿈스...</td>\n",
       "      <td>http://news.naver.com/main/read.nhn?mode=LSD&amp;m...</td>\n",
       "      <td>2016-02-26T10:25:00</td>\n",
       "      <td>+</td>\n",
       "      <td>+</td>\n",
       "    </tr>\n",
       "  </tbody>\n",
       "</table>\n",
       "</div>"
      ],
      "text/plain": [
       "   index                 uid publisher  \\\n",
       "0      0  354652739944452421       뉴스1   \n",
       "\n",
       "                                    title  \\\n",
       "0  김진석 CJ헬로비전 대표 '주주총회 70%이상 찬성으로 합병안 가결'   \n",
       "\n",
       "                                             summary  \\\n",
       "0  임세영 기자 = 김진석 CJ헬로비전 대표가 26일 오전 서울 마포구 상암동 누리꿈스...   \n",
       "\n",
       "                                             content  \\\n",
       "0  임세영 기자 = 김진석 CJ헬로비전 대표가 26일 오전 서울 마포구 상암동 누리꿈스...   \n",
       "\n",
       "                                         content_url            update_at  \\\n",
       "0  http://news.naver.com/main/read.nhn?mode=LSD&m...  2016-02-26T10:25:00   \n",
       "\n",
       "  importance polarity  \n",
       "0          +        +  "
      ]
     },
     "execution_count": 78,
     "metadata": {},
     "output_type": "execute_result"
    }
   ],
   "source": [
    "data_set.head(1)"
   ]
  },
  {
   "cell_type": "code",
   "execution_count": 81,
   "id": "cc1073dc",
   "metadata": {},
   "outputs": [
    {
     "name": "stderr",
     "output_type": "stream",
     "text": [
      "<ipython-input-81-eda7f4fac42b>:2: SettingWithCopyWarning: \n",
      "A value is trying to be set on a copy of a slice from a DataFrame.\n",
      "Try using .loc[row_indexer,col_indexer] = value instead\n",
      "\n",
      "See the caveats in the documentation: https://pandas.pydata.org/pandas-docs/stable/user_guide/indexing.html#returning-a-view-versus-a-copy\n",
      "  data_set_for_summary[\"token_len\"] = \"\"\n",
      "<ipython-input-81-eda7f4fac42b>:3: SettingWithCopyWarning: \n",
      "A value is trying to be set on a copy of a slice from a DataFrame.\n",
      "Try using .loc[row_indexer,col_indexer] = value instead\n",
      "\n",
      "See the caveats in the documentation: https://pandas.pydata.org/pandas-docs/stable/user_guide/indexing.html#returning-a-view-versus-a-copy\n",
      "  data_set_for_summary[\"tokenization\"] = \"\"\n"
     ]
    }
   ],
   "source": [
    "data_set_for_summary = data_set[['uid', 'summary']]\n",
    "data_set_for_summary[\"token_len\"] = \"\"\n",
    "data_set_for_summary[\"tokenization\"] = \"\"\n",
    "# data_set_for_title.reset_index()\n",
    "data_set_for_summary = data_set_for_summary.reset_index()"
   ]
  },
  {
   "cell_type": "code",
   "execution_count": 82,
   "id": "c9807123",
   "metadata": {},
   "outputs": [
    {
     "data": {
      "text/html": [
       "<div>\n",
       "<style scoped>\n",
       "    .dataframe tbody tr th:only-of-type {\n",
       "        vertical-align: middle;\n",
       "    }\n",
       "\n",
       "    .dataframe tbody tr th {\n",
       "        vertical-align: top;\n",
       "    }\n",
       "\n",
       "    .dataframe thead th {\n",
       "        text-align: right;\n",
       "    }\n",
       "</style>\n",
       "<table border=\"1\" class=\"dataframe\">\n",
       "  <thead>\n",
       "    <tr style=\"text-align: right;\">\n",
       "      <th></th>\n",
       "      <th>index</th>\n",
       "      <th>uid</th>\n",
       "      <th>summary</th>\n",
       "      <th>token_len</th>\n",
       "      <th>tokenization</th>\n",
       "    </tr>\n",
       "  </thead>\n",
       "  <tbody>\n",
       "    <tr>\n",
       "      <th>0</th>\n",
       "      <td>0</td>\n",
       "      <td>354652739944452421</td>\n",
       "      <td>임세영 기자 = 김진석 CJ헬로비전 대표가 26일 오전 서울 마포구 상암동 누리꿈스...</td>\n",
       "      <td></td>\n",
       "      <td></td>\n",
       "    </tr>\n",
       "  </tbody>\n",
       "</table>\n",
       "</div>"
      ],
      "text/plain": [
       "   index                 uid  \\\n",
       "0      0  354652739944452421   \n",
       "\n",
       "                                             summary token_len tokenization  \n",
       "0  임세영 기자 = 김진석 CJ헬로비전 대표가 26일 오전 서울 마포구 상암동 누리꿈스...                         "
      ]
     },
     "execution_count": 82,
     "metadata": {},
     "output_type": "execute_result"
    }
   ],
   "source": [
    "data_set_for_summary.head(1)"
   ]
  },
  {
   "cell_type": "code",
   "execution_count": 83,
   "id": "e56c6594",
   "metadata": {},
   "outputs": [
    {
     "data": {
      "text/html": [
       "<div>\n",
       "<style scoped>\n",
       "    .dataframe tbody tr th:only-of-type {\n",
       "        vertical-align: middle;\n",
       "    }\n",
       "\n",
       "    .dataframe tbody tr th {\n",
       "        vertical-align: top;\n",
       "    }\n",
       "\n",
       "    .dataframe thead th {\n",
       "        text-align: right;\n",
       "    }\n",
       "</style>\n",
       "<table border=\"1\" class=\"dataframe\">\n",
       "  <thead>\n",
       "    <tr style=\"text-align: right;\">\n",
       "      <th></th>\n",
       "      <th>index</th>\n",
       "      <th>uid</th>\n",
       "      <th>summary</th>\n",
       "      <th>token_len</th>\n",
       "      <th>tokenization</th>\n",
       "    </tr>\n",
       "  </thead>\n",
       "  <tbody>\n",
       "    <tr>\n",
       "      <th>47999</th>\n",
       "      <td>47999</td>\n",
       "      <td>659762898834428055</td>\n",
       "      <td>SK텔레콤 홍보 모델들이 스마트폰 렌탈 서비스 'T렌탈'을 이용하고 있는 모습.\\n...</td>\n",
       "      <td></td>\n",
       "      <td></td>\n",
       "    </tr>\n",
       "  </tbody>\n",
       "</table>\n",
       "</div>"
      ],
      "text/plain": [
       "       index                 uid  \\\n",
       "47999  47999  659762898834428055   \n",
       "\n",
       "                                                 summary token_len  \\\n",
       "47999  SK텔레콤 홍보 모델들이 스마트폰 렌탈 서비스 'T렌탈'을 이용하고 있는 모습.\\n...             \n",
       "\n",
       "      tokenization  \n",
       "47999               "
      ]
     },
     "execution_count": 83,
     "metadata": {},
     "output_type": "execute_result"
    }
   ],
   "source": [
    "data_set_for_summary.tail(1)"
   ]
  },
  {
   "cell_type": "code",
   "execution_count": 91,
   "id": "1051e0ac",
   "metadata": {},
   "outputs": [
    {
     "name": "stderr",
     "output_type": "stream",
     "text": [
      "  0%|                                                                                        | 0/48000 [00:00<?, ?it/s]<ipython-input-91-d3807f5634da>:3: SettingWithCopyWarning: \n",
      "A value is trying to be set on a copy of a slice from a DataFrame\n",
      "\n",
      "See the caveats in the documentation: https://pandas.pydata.org/pandas-docs/stable/user_guide/indexing.html#returning-a-view-versus-a-copy\n",
      "  data_set_for_summary[\"token_len\"][i] = len(tokenized)\n",
      "<ipython-input-91-d3807f5634da>:4: SettingWithCopyWarning: \n",
      "A value is trying to be set on a copy of a slice from a DataFrame\n",
      "\n",
      "See the caveats in the documentation: https://pandas.pydata.org/pandas-docs/stable/user_guide/indexing.html#returning-a-view-versus-a-copy\n",
      "  data_set_for_summary[\"tokenization\"][i] = \",\".join(tokenized)\n",
      "100%|██████████████████████████████████████████████████████████████████████████| 48000/48000 [00:31<00:00, 1525.82it/s]\n"
     ]
    }
   ],
   "source": [
    "for i in tqdm(range(data_set_for_summary.shape[0])):\n",
    "    tokenized = tokenizer.tokenize(str(data_set_for_summary['summary'][i]))\n",
    "    data_set_for_summary[\"token_len\"][i] = len(tokenized)\n",
    "    data_set_for_summary[\"tokenization\"][i] = \",\".join(tokenized)"
   ]
  },
  {
   "cell_type": "code",
   "execution_count": 92,
   "id": "db92a337",
   "metadata": {},
   "outputs": [
    {
     "data": {
      "text/html": [
       "<div>\n",
       "<style scoped>\n",
       "    .dataframe tbody tr th:only-of-type {\n",
       "        vertical-align: middle;\n",
       "    }\n",
       "\n",
       "    .dataframe tbody tr th {\n",
       "        vertical-align: top;\n",
       "    }\n",
       "\n",
       "    .dataframe thead th {\n",
       "        text-align: right;\n",
       "    }\n",
       "</style>\n",
       "<table border=\"1\" class=\"dataframe\">\n",
       "  <thead>\n",
       "    <tr style=\"text-align: right;\">\n",
       "      <th></th>\n",
       "      <th>index</th>\n",
       "      <th>uid</th>\n",
       "      <th>summary</th>\n",
       "      <th>token_len</th>\n",
       "      <th>tokenization</th>\n",
       "    </tr>\n",
       "  </thead>\n",
       "  <tbody>\n",
       "    <tr>\n",
       "      <th>0</th>\n",
       "      <td>0</td>\n",
       "      <td>354652739944452421</td>\n",
       "      <td>임세영 기자 = 김진석 CJ헬로비전 대표가 26일 오전 서울 마포구 상암동 누리꿈스...</td>\n",
       "      <td>90</td>\n",
       "      <td>▁임,세,영,▁,기자,▁=,▁김진,석,▁CJ,헬,로,비,전,▁대표,가,▁26,일,▁...</td>\n",
       "    </tr>\n",
       "  </tbody>\n",
       "</table>\n",
       "</div>"
      ],
      "text/plain": [
       "   index                 uid  \\\n",
       "0      0  354652739944452421   \n",
       "\n",
       "                                             summary token_len  \\\n",
       "0  임세영 기자 = 김진석 CJ헬로비전 대표가 26일 오전 서울 마포구 상암동 누리꿈스...        90   \n",
       "\n",
       "                                        tokenization  \n",
       "0  ▁임,세,영,▁,기자,▁=,▁김진,석,▁CJ,헬,로,비,전,▁대표,가,▁26,일,▁...  "
      ]
     },
     "execution_count": 92,
     "metadata": {},
     "output_type": "execute_result"
    }
   ],
   "source": [
    "data_set_for_summary.head(1)"
   ]
  },
  {
   "cell_type": "code",
   "execution_count": 93,
   "id": "4b2b80e2",
   "metadata": {},
   "outputs": [
    {
     "data": {
      "text/html": [
       "<div>\n",
       "<style scoped>\n",
       "    .dataframe tbody tr th:only-of-type {\n",
       "        vertical-align: middle;\n",
       "    }\n",
       "\n",
       "    .dataframe tbody tr th {\n",
       "        vertical-align: top;\n",
       "    }\n",
       "\n",
       "    .dataframe thead th {\n",
       "        text-align: right;\n",
       "    }\n",
       "</style>\n",
       "<table border=\"1\" class=\"dataframe\">\n",
       "  <thead>\n",
       "    <tr style=\"text-align: right;\">\n",
       "      <th></th>\n",
       "      <th>index</th>\n",
       "      <th>uid</th>\n",
       "      <th>summary</th>\n",
       "      <th>token_len</th>\n",
       "      <th>tokenization</th>\n",
       "    </tr>\n",
       "  </thead>\n",
       "  <tbody>\n",
       "    <tr>\n",
       "      <th>47999</th>\n",
       "      <td>47999</td>\n",
       "      <td>659762898834428055</td>\n",
       "      <td>SK텔레콤 홍보 모델들이 스마트폰 렌탈 서비스 'T렌탈'을 이용하고 있는 모습.\\n...</td>\n",
       "      <td>62</td>\n",
       "      <td>▁SK,텔레콤,▁홍보,▁모델,들이,▁스마트폰,▁,렌,탈,▁서비스,▁',T,렌,탈,'...</td>\n",
       "    </tr>\n",
       "  </tbody>\n",
       "</table>\n",
       "</div>"
      ],
      "text/plain": [
       "       index                 uid  \\\n",
       "47999  47999  659762898834428055   \n",
       "\n",
       "                                                 summary token_len  \\\n",
       "47999  SK텔레콤 홍보 모델들이 스마트폰 렌탈 서비스 'T렌탈'을 이용하고 있는 모습.\\n...        62   \n",
       "\n",
       "                                            tokenization  \n",
       "47999  ▁SK,텔레콤,▁홍보,▁모델,들이,▁스마트폰,▁,렌,탈,▁서비스,▁',T,렌,탈,'...  "
      ]
     },
     "execution_count": 93,
     "metadata": {},
     "output_type": "execute_result"
    }
   ],
   "source": [
    "data_set_for_summary.tail(1)"
   ]
  },
  {
   "cell_type": "code",
   "execution_count": 94,
   "id": "d04e7e7b",
   "metadata": {},
   "outputs": [],
   "source": [
    "save_path = \"C:\\\\Users\\\\Administrator\\\\Desktop\\\\Work\\\\2. 인공지능리서치AIR\\\\2. data sets\\\\2. processed data\"\n",
    "data_set_for_summary.to_excel(save_path + \"/tokenization_for_summary.xlsx\")"
   ]
  },
  {
   "cell_type": "code",
   "execution_count": null,
   "id": "08d7375e",
   "metadata": {},
   "outputs": [],
   "source": []
  },
  {
   "cell_type": "markdown",
   "id": "fd33d5ca",
   "metadata": {},
   "source": [
    "## For content"
   ]
  },
  {
   "cell_type": "code",
   "execution_count": 95,
   "id": "257a392e",
   "metadata": {},
   "outputs": [],
   "source": [
    "data_set_tokened = data_set\n",
    "data_set_tokened[\"content_len\"] = data_set_tokened['content'].str.len()\n",
    "data_set_tokened[\"content_token_len\"] = \"\"\n",
    "data_set_tokened[\"content_tokenized\"] = \"\"\n",
    "data_set_tokened = data_set_tokened.reset_index()"
   ]
  },
  {
   "cell_type": "code",
   "execution_count": 96,
   "id": "281cd922",
   "metadata": {},
   "outputs": [
    {
     "data": {
      "text/html": [
       "<div>\n",
       "<style scoped>\n",
       "    .dataframe tbody tr th:only-of-type {\n",
       "        vertical-align: middle;\n",
       "    }\n",
       "\n",
       "    .dataframe tbody tr th {\n",
       "        vertical-align: top;\n",
       "    }\n",
       "\n",
       "    .dataframe thead th {\n",
       "        text-align: right;\n",
       "    }\n",
       "</style>\n",
       "<table border=\"1\" class=\"dataframe\">\n",
       "  <thead>\n",
       "    <tr style=\"text-align: right;\">\n",
       "      <th></th>\n",
       "      <th>level_0</th>\n",
       "      <th>index</th>\n",
       "      <th>no</th>\n",
       "      <th>uid</th>\n",
       "      <th>publisher</th>\n",
       "      <th>title</th>\n",
       "      <th>summary</th>\n",
       "      <th>content</th>\n",
       "      <th>content_url</th>\n",
       "      <th>update_at</th>\n",
       "      <th>importance</th>\n",
       "      <th>polarity</th>\n",
       "      <th>content_len</th>\n",
       "      <th>content_token_len</th>\n",
       "      <th>content_tokenized</th>\n",
       "    </tr>\n",
       "  </thead>\n",
       "  <tbody>\n",
       "    <tr>\n",
       "      <th>0</th>\n",
       "      <td>0</td>\n",
       "      <td>0</td>\n",
       "      <td>0</td>\n",
       "      <td>354652739944452416</td>\n",
       "      <td>뉴스1</td>\n",
       "      <td>김진석 CJ헬로비전 대표 '주주총회 70%이상 찬성으로 합병안 가결'</td>\n",
       "      <td>임세영 기자 = 김진석 CJ헬로비전 대표가 26일 오전 서울 마포구 상암동 누리꿈스...</td>\n",
       "      <td>임세영 기자 = 김진석 CJ헬로비전 대표가 26일 오전 서울 마포구 상암동 누리꿈스...</td>\n",
       "      <td>http://news.naver.com/main/read.nhn?mode=LSD&amp;m...</td>\n",
       "      <td>2016-02-26T10:25:00</td>\n",
       "      <td>+</td>\n",
       "      <td>+</td>\n",
       "      <td>175.0</td>\n",
       "      <td></td>\n",
       "      <td></td>\n",
       "    </tr>\n",
       "  </tbody>\n",
       "</table>\n",
       "</div>"
      ],
      "text/plain": [
       "   level_0  index  no                 uid publisher  \\\n",
       "0        0      0   0  354652739944452416       뉴스1   \n",
       "\n",
       "                                    title  \\\n",
       "0  김진석 CJ헬로비전 대표 '주주총회 70%이상 찬성으로 합병안 가결'   \n",
       "\n",
       "                                             summary  \\\n",
       "0  임세영 기자 = 김진석 CJ헬로비전 대표가 26일 오전 서울 마포구 상암동 누리꿈스...   \n",
       "\n",
       "                                             content  \\\n",
       "0  임세영 기자 = 김진석 CJ헬로비전 대표가 26일 오전 서울 마포구 상암동 누리꿈스...   \n",
       "\n",
       "                                         content_url            update_at  \\\n",
       "0  http://news.naver.com/main/read.nhn?mode=LSD&m...  2016-02-26T10:25:00   \n",
       "\n",
       "  importance polarity  content_len content_token_len content_tokenized  \n",
       "0          +        +        175.0                                      "
      ]
     },
     "execution_count": 96,
     "metadata": {},
     "output_type": "execute_result"
    }
   ],
   "source": [
    "data_set_tokened.head(1)"
   ]
  },
  {
   "cell_type": "code",
   "execution_count": 97,
   "id": "9ba01c22",
   "metadata": {},
   "outputs": [
    {
     "name": "stderr",
     "output_type": "stream",
     "text": [
      "  0%|                                                                                        | 0/48000 [00:00<?, ?it/s]<ipython-input-97-6259c18d9197>:3: SettingWithCopyWarning: \n",
      "A value is trying to be set on a copy of a slice from a DataFrame\n",
      "\n",
      "See the caveats in the documentation: https://pandas.pydata.org/pandas-docs/stable/user_guide/indexing.html#returning-a-view-versus-a-copy\n",
      "  data_set_tokened[\"content_token_len\"][i] = len(tokenized)\n",
      "<ipython-input-97-6259c18d9197>:4: SettingWithCopyWarning: \n",
      "A value is trying to be set on a copy of a slice from a DataFrame\n",
      "\n",
      "See the caveats in the documentation: https://pandas.pydata.org/pandas-docs/stable/user_guide/indexing.html#returning-a-view-versus-a-copy\n",
      "  data_set_tokened[\"content_tokenized\"][i] = \",\".join(tokenized)\n",
      "100%|███████████████████████████████████████████████████████████████████████████| 48000/48000 [00:53<00:00, 902.99it/s]\n"
     ]
    }
   ],
   "source": [
    "for i in tqdm(range(data_set_tokened.shape[0])):\n",
    "    tokenized = tokenizer.tokenize(str(data_set_tokened['content'][i]))\n",
    "    data_set_tokened[\"content_token_len\"][i] = len(tokenized)\n",
    "    data_set_tokened[\"content_tokenized\"][i] = \",\".join(tokenized)"
   ]
  },
  {
   "cell_type": "code",
   "execution_count": 98,
   "id": "21111648",
   "metadata": {},
   "outputs": [
    {
     "data": {
      "text/html": [
       "<div>\n",
       "<style scoped>\n",
       "    .dataframe tbody tr th:only-of-type {\n",
       "        vertical-align: middle;\n",
       "    }\n",
       "\n",
       "    .dataframe tbody tr th {\n",
       "        vertical-align: top;\n",
       "    }\n",
       "\n",
       "    .dataframe thead th {\n",
       "        text-align: right;\n",
       "    }\n",
       "</style>\n",
       "<table border=\"1\" class=\"dataframe\">\n",
       "  <thead>\n",
       "    <tr style=\"text-align: right;\">\n",
       "      <th></th>\n",
       "      <th>level_0</th>\n",
       "      <th>index</th>\n",
       "      <th>no</th>\n",
       "      <th>uid</th>\n",
       "      <th>publisher</th>\n",
       "      <th>title</th>\n",
       "      <th>summary</th>\n",
       "      <th>content</th>\n",
       "      <th>content_url</th>\n",
       "      <th>update_at</th>\n",
       "      <th>importance</th>\n",
       "      <th>polarity</th>\n",
       "      <th>content_len</th>\n",
       "      <th>content_token_len</th>\n",
       "      <th>content_tokenized</th>\n",
       "    </tr>\n",
       "  </thead>\n",
       "  <tbody>\n",
       "    <tr>\n",
       "      <th>0</th>\n",
       "      <td>0</td>\n",
       "      <td>0</td>\n",
       "      <td>0</td>\n",
       "      <td>354652739944452416</td>\n",
       "      <td>뉴스1</td>\n",
       "      <td>김진석 CJ헬로비전 대표 '주주총회 70%이상 찬성으로 합병안 가결'</td>\n",
       "      <td>임세영 기자 = 김진석 CJ헬로비전 대표가 26일 오전 서울 마포구 상암동 누리꿈스...</td>\n",
       "      <td>임세영 기자 = 김진석 CJ헬로비전 대표가 26일 오전 서울 마포구 상암동 누리꿈스...</td>\n",
       "      <td>http://news.naver.com/main/read.nhn?mode=LSD&amp;m...</td>\n",
       "      <td>2016-02-26T10:25:00</td>\n",
       "      <td>+</td>\n",
       "      <td>+</td>\n",
       "      <td>175.0</td>\n",
       "      <td>98</td>\n",
       "      <td>▁임,세,영,▁,기자,▁=,▁김진,석,▁CJ,헬,로,비,전,▁대표,가,▁26,일,▁...</td>\n",
       "    </tr>\n",
       "  </tbody>\n",
       "</table>\n",
       "</div>"
      ],
      "text/plain": [
       "   level_0  index  no                 uid publisher  \\\n",
       "0        0      0   0  354652739944452416       뉴스1   \n",
       "\n",
       "                                    title  \\\n",
       "0  김진석 CJ헬로비전 대표 '주주총회 70%이상 찬성으로 합병안 가결'   \n",
       "\n",
       "                                             summary  \\\n",
       "0  임세영 기자 = 김진석 CJ헬로비전 대표가 26일 오전 서울 마포구 상암동 누리꿈스...   \n",
       "\n",
       "                                             content  \\\n",
       "0  임세영 기자 = 김진석 CJ헬로비전 대표가 26일 오전 서울 마포구 상암동 누리꿈스...   \n",
       "\n",
       "                                         content_url            update_at  \\\n",
       "0  http://news.naver.com/main/read.nhn?mode=LSD&m...  2016-02-26T10:25:00   \n",
       "\n",
       "  importance polarity  content_len content_token_len  \\\n",
       "0          +        +        175.0                98   \n",
       "\n",
       "                                   content_tokenized  \n",
       "0  ▁임,세,영,▁,기자,▁=,▁김진,석,▁CJ,헬,로,비,전,▁대표,가,▁26,일,▁...  "
      ]
     },
     "execution_count": 98,
     "metadata": {},
     "output_type": "execute_result"
    }
   ],
   "source": [
    "data_set_tokened.head(1)"
   ]
  },
  {
   "cell_type": "code",
   "execution_count": 40,
   "id": "1dc6dedb",
   "metadata": {},
   "outputs": [],
   "source": [
    "data_save_path = \"C:/Users/Administrator/Desktop/Work/2. 인공지능리서치AIR/2. data sets/2. processed data\"\n",
    "data_set_tokened.to_excel(data_save_path + \"/data_set_tokened.xlsx\")"
   ]
  },
  {
   "cell_type": "markdown",
   "id": "ddf4b67c",
   "metadata": {},
   "source": [
    "# Pre-processing"
   ]
  },
  {
   "cell_type": "code",
   "execution_count": 11,
   "id": "1398d7da",
   "metadata": {},
   "outputs": [],
   "source": [
    "data_save_path = \"C:/Users/Administrator/Desktop/Work/2. 인공지능리서치AIR/2. data sets/2. processed data\"\n",
    "data_set_tokened = pd.read_excel(data_save_path + \"/data_set_tokened.xlsx\")"
   ]
  },
  {
   "cell_type": "code",
   "execution_count": 74,
   "id": "f46d3d87",
   "metadata": {},
   "outputs": [],
   "source": [
    "data_set_tokened.publisher.value_counts().to_excel(data_save_path + '/publisher_count.xlsx')"
   ]
  },
  {
   "cell_type": "code",
   "execution_count": null,
   "id": "8a01ff82",
   "metadata": {},
   "outputs": [],
   "source": []
  },
  {
   "cell_type": "code",
   "execution_count": 217,
   "id": "d25dc3d3",
   "metadata": {},
   "outputs": [],
   "source": [
    "test_dt = pd.DataFrame({\"a\":[1, 2, 3], \"b\":[\"abcdefg\", 'cdefg', 'efr']})"
   ]
  },
  {
   "cell_type": "code",
   "execution_count": 226,
   "id": "a6ecf00b",
   "metadata": {},
   "outputs": [
    {
     "ename": "ValueError",
     "evalue": "substring not found",
     "output_type": "error",
     "traceback": [
      "\u001b[1;31m---------------------------------------------------------------------------\u001b[0m",
      "\u001b[1;31mValueError\u001b[0m                                Traceback (most recent call last)",
      "\u001b[1;32m<ipython-input-226-d441ff0ef52f>\u001b[0m in \u001b[0;36m<module>\u001b[1;34m\u001b[0m\n\u001b[1;32m----> 1\u001b[1;33m \u001b[0mtest_dt\u001b[0m\u001b[1;33m.\u001b[0m\u001b[0mb\u001b[0m\u001b[1;33m.\u001b[0m\u001b[0mstr\u001b[0m\u001b[1;33m.\u001b[0m\u001b[0mindex\u001b[0m\u001b[1;33m(\u001b[0m\u001b[1;34mr\"[d]\"\u001b[0m\u001b[1;33m)\u001b[0m\u001b[1;33m\u001b[0m\u001b[1;33m\u001b[0m\u001b[0m\n\u001b[0m",
      "\u001b[1;32m~\\Anaconda3\\lib\\site-packages\\pandas\\core\\strings\\accessor.py\u001b[0m in \u001b[0;36mwrapper\u001b[1;34m(self, *args, **kwargs)\u001b[0m\n\u001b[0;32m     99\u001b[0m                 )\n\u001b[0;32m    100\u001b[0m                 \u001b[1;32mraise\u001b[0m \u001b[0mTypeError\u001b[0m\u001b[1;33m(\u001b[0m\u001b[0mmsg\u001b[0m\u001b[1;33m)\u001b[0m\u001b[1;33m\u001b[0m\u001b[1;33m\u001b[0m\u001b[0m\n\u001b[1;32m--> 101\u001b[1;33m             \u001b[1;32mreturn\u001b[0m \u001b[0mfunc\u001b[0m\u001b[1;33m(\u001b[0m\u001b[0mself\u001b[0m\u001b[1;33m,\u001b[0m \u001b[1;33m*\u001b[0m\u001b[0margs\u001b[0m\u001b[1;33m,\u001b[0m \u001b[1;33m**\u001b[0m\u001b[0mkwargs\u001b[0m\u001b[1;33m)\u001b[0m\u001b[1;33m\u001b[0m\u001b[1;33m\u001b[0m\u001b[0m\n\u001b[0m\u001b[0;32m    102\u001b[0m \u001b[1;33m\u001b[0m\u001b[0m\n\u001b[0;32m    103\u001b[0m         \u001b[0mwrapper\u001b[0m\u001b[1;33m.\u001b[0m\u001b[0m__name__\u001b[0m \u001b[1;33m=\u001b[0m \u001b[0mfunc_name\u001b[0m\u001b[1;33m\u001b[0m\u001b[1;33m\u001b[0m\u001b[0m\n",
      "\u001b[1;32m~\\Anaconda3\\lib\\site-packages\\pandas\\core\\strings\\accessor.py\u001b[0m in \u001b[0;36mindex\u001b[1;34m(self, sub, start, end)\u001b[0m\n\u001b[0;32m   2510\u001b[0m             \u001b[1;32mraise\u001b[0m \u001b[0mTypeError\u001b[0m\u001b[1;33m(\u001b[0m\u001b[0mmsg\u001b[0m\u001b[1;33m)\u001b[0m\u001b[1;33m\u001b[0m\u001b[1;33m\u001b[0m\u001b[0m\n\u001b[0;32m   2511\u001b[0m \u001b[1;33m\u001b[0m\u001b[0m\n\u001b[1;32m-> 2512\u001b[1;33m         \u001b[0mresult\u001b[0m \u001b[1;33m=\u001b[0m \u001b[0mself\u001b[0m\u001b[1;33m.\u001b[0m\u001b[0m_data\u001b[0m\u001b[1;33m.\u001b[0m\u001b[0marray\u001b[0m\u001b[1;33m.\u001b[0m\u001b[0m_str_index\u001b[0m\u001b[1;33m(\u001b[0m\u001b[0msub\u001b[0m\u001b[1;33m,\u001b[0m \u001b[0mstart\u001b[0m\u001b[1;33m=\u001b[0m\u001b[0mstart\u001b[0m\u001b[1;33m,\u001b[0m \u001b[0mend\u001b[0m\u001b[1;33m=\u001b[0m\u001b[0mend\u001b[0m\u001b[1;33m)\u001b[0m\u001b[1;33m\u001b[0m\u001b[1;33m\u001b[0m\u001b[0m\n\u001b[0m\u001b[0;32m   2513\u001b[0m         \u001b[1;32mreturn\u001b[0m \u001b[0mself\u001b[0m\u001b[1;33m.\u001b[0m\u001b[0m_wrap_result\u001b[0m\u001b[1;33m(\u001b[0m\u001b[0mresult\u001b[0m\u001b[1;33m,\u001b[0m \u001b[0mreturns_string\u001b[0m\u001b[1;33m=\u001b[0m\u001b[1;32mFalse\u001b[0m\u001b[1;33m)\u001b[0m\u001b[1;33m\u001b[0m\u001b[1;33m\u001b[0m\u001b[0m\n\u001b[0;32m   2514\u001b[0m \u001b[1;33m\u001b[0m\u001b[0m\n",
      "\u001b[1;32m~\\Anaconda3\\lib\\site-packages\\pandas\\core\\strings\\object_array.py\u001b[0m in \u001b[0;36m_str_index\u001b[1;34m(self, sub, start, end)\u001b[0m\n\u001b[0;32m    275\u001b[0m         \u001b[1;32melse\u001b[0m\u001b[1;33m:\u001b[0m\u001b[1;33m\u001b[0m\u001b[1;33m\u001b[0m\u001b[0m\n\u001b[0;32m    276\u001b[0m             \u001b[0mf\u001b[0m \u001b[1;33m=\u001b[0m \u001b[1;32mlambda\u001b[0m \u001b[0mx\u001b[0m\u001b[1;33m:\u001b[0m \u001b[0mx\u001b[0m\u001b[1;33m.\u001b[0m\u001b[0mindex\u001b[0m\u001b[1;33m(\u001b[0m\u001b[0msub\u001b[0m\u001b[1;33m,\u001b[0m \u001b[0mstart\u001b[0m\u001b[1;33m,\u001b[0m \u001b[0mend\u001b[0m\u001b[1;33m)\u001b[0m\u001b[1;33m\u001b[0m\u001b[1;33m\u001b[0m\u001b[0m\n\u001b[1;32m--> 277\u001b[1;33m         \u001b[1;32mreturn\u001b[0m \u001b[0mself\u001b[0m\u001b[1;33m.\u001b[0m\u001b[0m_str_map\u001b[0m\u001b[1;33m(\u001b[0m\u001b[0mf\u001b[0m\u001b[1;33m,\u001b[0m \u001b[0mdtype\u001b[0m\u001b[1;33m=\u001b[0m\u001b[1;34m\"int64\"\u001b[0m\u001b[1;33m)\u001b[0m\u001b[1;33m\u001b[0m\u001b[1;33m\u001b[0m\u001b[0m\n\u001b[0m\u001b[0;32m    278\u001b[0m \u001b[1;33m\u001b[0m\u001b[0m\n\u001b[0;32m    279\u001b[0m     \u001b[1;32mdef\u001b[0m \u001b[0m_str_rindex\u001b[0m\u001b[1;33m(\u001b[0m\u001b[0mself\u001b[0m\u001b[1;33m,\u001b[0m \u001b[0msub\u001b[0m\u001b[1;33m,\u001b[0m \u001b[0mstart\u001b[0m\u001b[1;33m=\u001b[0m\u001b[1;36m0\u001b[0m\u001b[1;33m,\u001b[0m \u001b[0mend\u001b[0m\u001b[1;33m=\u001b[0m\u001b[1;32mNone\u001b[0m\u001b[1;33m)\u001b[0m\u001b[1;33m:\u001b[0m\u001b[1;33m\u001b[0m\u001b[1;33m\u001b[0m\u001b[0m\n",
      "\u001b[1;32m~\\Anaconda3\\lib\\site-packages\\pandas\\core\\strings\\object_array.py\u001b[0m in \u001b[0;36m_str_map\u001b[1;34m(self, f, na_value, dtype)\u001b[0m\n\u001b[0;32m     59\u001b[0m         \u001b[0mconvert\u001b[0m \u001b[1;33m=\u001b[0m \u001b[1;32mnot\u001b[0m \u001b[0mnp\u001b[0m\u001b[1;33m.\u001b[0m\u001b[0mall\u001b[0m\u001b[1;33m(\u001b[0m\u001b[0mmask\u001b[0m\u001b[1;33m)\u001b[0m\u001b[1;33m\u001b[0m\u001b[1;33m\u001b[0m\u001b[0m\n\u001b[0;32m     60\u001b[0m         \u001b[1;32mtry\u001b[0m\u001b[1;33m:\u001b[0m\u001b[1;33m\u001b[0m\u001b[1;33m\u001b[0m\u001b[0m\n\u001b[1;32m---> 61\u001b[1;33m             \u001b[0mresult\u001b[0m \u001b[1;33m=\u001b[0m \u001b[0mlib\u001b[0m\u001b[1;33m.\u001b[0m\u001b[0mmap_infer_mask\u001b[0m\u001b[1;33m(\u001b[0m\u001b[0marr\u001b[0m\u001b[1;33m,\u001b[0m \u001b[0mf\u001b[0m\u001b[1;33m,\u001b[0m \u001b[0mmask\u001b[0m\u001b[1;33m.\u001b[0m\u001b[0mview\u001b[0m\u001b[1;33m(\u001b[0m\u001b[0mnp\u001b[0m\u001b[1;33m.\u001b[0m\u001b[0muint8\u001b[0m\u001b[1;33m)\u001b[0m\u001b[1;33m,\u001b[0m \u001b[0mconvert\u001b[0m\u001b[1;33m)\u001b[0m\u001b[1;33m\u001b[0m\u001b[1;33m\u001b[0m\u001b[0m\n\u001b[0m\u001b[0;32m     62\u001b[0m         \u001b[1;32mexcept\u001b[0m \u001b[1;33m(\u001b[0m\u001b[0mTypeError\u001b[0m\u001b[1;33m,\u001b[0m \u001b[0mAttributeError\u001b[0m\u001b[1;33m)\u001b[0m \u001b[1;32mas\u001b[0m \u001b[0me\u001b[0m\u001b[1;33m:\u001b[0m\u001b[1;33m\u001b[0m\u001b[1;33m\u001b[0m\u001b[0m\n\u001b[0;32m     63\u001b[0m             \u001b[1;31m# Reraise the exception if callable `f` got wrong number of args.\u001b[0m\u001b[1;33m\u001b[0m\u001b[1;33m\u001b[0m\u001b[1;33m\u001b[0m\u001b[0m\n",
      "\u001b[1;32mpandas\\_libs\\lib.pyx\u001b[0m in \u001b[0;36mpandas._libs.lib.map_infer_mask\u001b[1;34m()\u001b[0m\n",
      "\u001b[1;32m~\\Anaconda3\\lib\\site-packages\\pandas\\core\\strings\\object_array.py\u001b[0m in \u001b[0;36m<lambda>\u001b[1;34m(x)\u001b[0m\n\u001b[0;32m    274\u001b[0m             \u001b[0mf\u001b[0m \u001b[1;33m=\u001b[0m \u001b[1;32mlambda\u001b[0m \u001b[0mx\u001b[0m\u001b[1;33m:\u001b[0m \u001b[0mx\u001b[0m\u001b[1;33m.\u001b[0m\u001b[0mindex\u001b[0m\u001b[1;33m(\u001b[0m\u001b[0msub\u001b[0m\u001b[1;33m,\u001b[0m \u001b[0mstart\u001b[0m\u001b[1;33m,\u001b[0m \u001b[0mend\u001b[0m\u001b[1;33m)\u001b[0m\u001b[1;33m\u001b[0m\u001b[1;33m\u001b[0m\u001b[0m\n\u001b[0;32m    275\u001b[0m         \u001b[1;32melse\u001b[0m\u001b[1;33m:\u001b[0m\u001b[1;33m\u001b[0m\u001b[1;33m\u001b[0m\u001b[0m\n\u001b[1;32m--> 276\u001b[1;33m             \u001b[0mf\u001b[0m \u001b[1;33m=\u001b[0m \u001b[1;32mlambda\u001b[0m \u001b[0mx\u001b[0m\u001b[1;33m:\u001b[0m \u001b[0mx\u001b[0m\u001b[1;33m.\u001b[0m\u001b[0mindex\u001b[0m\u001b[1;33m(\u001b[0m\u001b[0msub\u001b[0m\u001b[1;33m,\u001b[0m \u001b[0mstart\u001b[0m\u001b[1;33m,\u001b[0m \u001b[0mend\u001b[0m\u001b[1;33m)\u001b[0m\u001b[1;33m\u001b[0m\u001b[1;33m\u001b[0m\u001b[0m\n\u001b[0m\u001b[0;32m    277\u001b[0m         \u001b[1;32mreturn\u001b[0m \u001b[0mself\u001b[0m\u001b[1;33m.\u001b[0m\u001b[0m_str_map\u001b[0m\u001b[1;33m(\u001b[0m\u001b[0mf\u001b[0m\u001b[1;33m,\u001b[0m \u001b[0mdtype\u001b[0m\u001b[1;33m=\u001b[0m\u001b[1;34m\"int64\"\u001b[0m\u001b[1;33m)\u001b[0m\u001b[1;33m\u001b[0m\u001b[1;33m\u001b[0m\u001b[0m\n\u001b[0;32m    278\u001b[0m \u001b[1;33m\u001b[0m\u001b[0m\n",
      "\u001b[1;31mValueError\u001b[0m: substring not found"
     ]
    }
   ],
   "source": [
    "test_dt.b.str.index(r\"[d]\")"
   ]
  },
  {
   "cell_type": "code",
   "execution_count": 220,
   "id": "e4969311",
   "metadata": {},
   "outputs": [
    {
     "ename": "AttributeError",
     "evalue": "'DataFrame' object has no attribute 'str'",
     "output_type": "error",
     "traceback": [
      "\u001b[1;31m---------------------------------------------------------------------------\u001b[0m",
      "\u001b[1;31mAttributeError\u001b[0m                            Traceback (most recent call last)",
      "\u001b[1;32m<ipython-input-220-b8227816b103>\u001b[0m in \u001b[0;36m<module>\u001b[1;34m\u001b[0m\n\u001b[1;32m----> 1\u001b[1;33m \u001b[0mtest_dt\u001b[0m\u001b[1;33m.\u001b[0m\u001b[0mstr\u001b[0m\u001b[1;33m.\u001b[0m\u001b[0mindex\u001b[0m\u001b[1;33m(\u001b[0m\u001b[1;34m\"f\"\u001b[0m\u001b[1;33m)\u001b[0m\u001b[1;33m\u001b[0m\u001b[1;33m\u001b[0m\u001b[0m\n\u001b[0m",
      "\u001b[1;32m~\\Anaconda3\\lib\\site-packages\\pandas\\core\\generic.py\u001b[0m in \u001b[0;36m__getattr__\u001b[1;34m(self, name)\u001b[0m\n\u001b[0;32m   5463\u001b[0m             \u001b[1;32mif\u001b[0m \u001b[0mself\u001b[0m\u001b[1;33m.\u001b[0m\u001b[0m_info_axis\u001b[0m\u001b[1;33m.\u001b[0m\u001b[0m_can_hold_identifiers_and_holds_name\u001b[0m\u001b[1;33m(\u001b[0m\u001b[0mname\u001b[0m\u001b[1;33m)\u001b[0m\u001b[1;33m:\u001b[0m\u001b[1;33m\u001b[0m\u001b[1;33m\u001b[0m\u001b[0m\n\u001b[0;32m   5464\u001b[0m                 \u001b[1;32mreturn\u001b[0m \u001b[0mself\u001b[0m\u001b[1;33m[\u001b[0m\u001b[0mname\u001b[0m\u001b[1;33m]\u001b[0m\u001b[1;33m\u001b[0m\u001b[1;33m\u001b[0m\u001b[0m\n\u001b[1;32m-> 5465\u001b[1;33m             \u001b[1;32mreturn\u001b[0m \u001b[0mobject\u001b[0m\u001b[1;33m.\u001b[0m\u001b[0m__getattribute__\u001b[0m\u001b[1;33m(\u001b[0m\u001b[0mself\u001b[0m\u001b[1;33m,\u001b[0m \u001b[0mname\u001b[0m\u001b[1;33m)\u001b[0m\u001b[1;33m\u001b[0m\u001b[1;33m\u001b[0m\u001b[0m\n\u001b[0m\u001b[0;32m   5466\u001b[0m \u001b[1;33m\u001b[0m\u001b[0m\n\u001b[0;32m   5467\u001b[0m     \u001b[1;32mdef\u001b[0m \u001b[0m__setattr__\u001b[0m\u001b[1;33m(\u001b[0m\u001b[0mself\u001b[0m\u001b[1;33m,\u001b[0m \u001b[0mname\u001b[0m\u001b[1;33m:\u001b[0m \u001b[0mstr\u001b[0m\u001b[1;33m,\u001b[0m \u001b[0mvalue\u001b[0m\u001b[1;33m)\u001b[0m \u001b[1;33m->\u001b[0m \u001b[1;32mNone\u001b[0m\u001b[1;33m:\u001b[0m\u001b[1;33m\u001b[0m\u001b[1;33m\u001b[0m\u001b[0m\n",
      "\u001b[1;31mAttributeError\u001b[0m: 'DataFrame' object has no attribute 'str'"
     ]
    }
   ],
   "source": [
    "test_dt.str.index(\"f\")"
   ]
  },
  {
   "cell_type": "code",
   "execution_count": null,
   "id": "57967d9b",
   "metadata": {},
   "outputs": [],
   "source": []
  },
  {
   "cell_type": "code",
   "execution_count": null,
   "id": "405e8144",
   "metadata": {},
   "outputs": [],
   "source": []
  },
  {
   "cell_type": "code",
   "execution_count": 184,
   "id": "d4fa28f9",
   "metadata": {},
   "outputs": [],
   "source": [
    "# 공통\n",
    "data_set_tokened['content_1'] = data_set_tokened['content'] \n",
    "# e-mail address\n",
    "data_set_tokened['content_1'] = data_set_tokened['content_1'].str.replace('[가-힣]+ [(]+[a-zA-Z0-9.]+[@][a-zA-Z.]+[)].*\\Z', \" \",regex = True)\n",
    "data_set_tokened['content_1'] = data_set_tokened['content_1'].str.rstrip('[가-힣]+ [(]+[a-zA-Z0-9.]+[@][a-zA-Z.]+[)]', \" \",regex = True)"
   ]
  },
  {
   "cell_type": "code",
   "execution_count": 212,
   "id": "6ae64ec5",
   "metadata": {},
   "outputs": [
    {
     "ename": "ValueError",
     "evalue": "substring not found",
     "output_type": "error",
     "traceback": [
      "\u001b[1;31m---------------------------------------------------------------------------\u001b[0m",
      "\u001b[1;31mValueError\u001b[0m                                Traceback (most recent call last)",
      "\u001b[1;32m<ipython-input-212-481d008d071f>\u001b[0m in \u001b[0;36m<module>\u001b[1;34m\u001b[0m\n\u001b[1;32m----> 1\u001b[1;33m \u001b[0mdata_set_tokened\u001b[0m\u001b[1;33m[\u001b[0m\u001b[1;34m'content_1'\u001b[0m\u001b[1;33m]\u001b[0m \u001b[1;33m=\u001b[0m \u001b[0mdata_set_tokened\u001b[0m\u001b[1;33m[\u001b[0m\u001b[1;34m'content_1'\u001b[0m\u001b[1;33m]\u001b[0m\u001b[1;33m.\u001b[0m\u001b[0mstr\u001b[0m\u001b[1;33m.\u001b[0m\u001b[0mindex\u001b[0m\u001b[1;33m(\u001b[0m\u001b[1;34m'[가-힣]+ [(]+[a-zA-Z0-9.]+[@][a-zA-Z.]+[)]'\u001b[0m\u001b[1;33m)\u001b[0m\u001b[1;33m\u001b[0m\u001b[1;33m\u001b[0m\u001b[0m\n\u001b[0m",
      "\u001b[1;32m~\\Anaconda3\\lib\\site-packages\\pandas\\core\\strings\\accessor.py\u001b[0m in \u001b[0;36mwrapper\u001b[1;34m(self, *args, **kwargs)\u001b[0m\n\u001b[0;32m     99\u001b[0m                 )\n\u001b[0;32m    100\u001b[0m                 \u001b[1;32mraise\u001b[0m \u001b[0mTypeError\u001b[0m\u001b[1;33m(\u001b[0m\u001b[0mmsg\u001b[0m\u001b[1;33m)\u001b[0m\u001b[1;33m\u001b[0m\u001b[1;33m\u001b[0m\u001b[0m\n\u001b[1;32m--> 101\u001b[1;33m             \u001b[1;32mreturn\u001b[0m \u001b[0mfunc\u001b[0m\u001b[1;33m(\u001b[0m\u001b[0mself\u001b[0m\u001b[1;33m,\u001b[0m \u001b[1;33m*\u001b[0m\u001b[0margs\u001b[0m\u001b[1;33m,\u001b[0m \u001b[1;33m**\u001b[0m\u001b[0mkwargs\u001b[0m\u001b[1;33m)\u001b[0m\u001b[1;33m\u001b[0m\u001b[1;33m\u001b[0m\u001b[0m\n\u001b[0m\u001b[0;32m    102\u001b[0m \u001b[1;33m\u001b[0m\u001b[0m\n\u001b[0;32m    103\u001b[0m         \u001b[0mwrapper\u001b[0m\u001b[1;33m.\u001b[0m\u001b[0m__name__\u001b[0m \u001b[1;33m=\u001b[0m \u001b[0mfunc_name\u001b[0m\u001b[1;33m\u001b[0m\u001b[1;33m\u001b[0m\u001b[0m\n",
      "\u001b[1;32m~\\Anaconda3\\lib\\site-packages\\pandas\\core\\strings\\accessor.py\u001b[0m in \u001b[0;36mindex\u001b[1;34m(self, sub, start, end)\u001b[0m\n\u001b[0;32m   2510\u001b[0m             \u001b[1;32mraise\u001b[0m \u001b[0mTypeError\u001b[0m\u001b[1;33m(\u001b[0m\u001b[0mmsg\u001b[0m\u001b[1;33m)\u001b[0m\u001b[1;33m\u001b[0m\u001b[1;33m\u001b[0m\u001b[0m\n\u001b[0;32m   2511\u001b[0m \u001b[1;33m\u001b[0m\u001b[0m\n\u001b[1;32m-> 2512\u001b[1;33m         \u001b[0mresult\u001b[0m \u001b[1;33m=\u001b[0m \u001b[0mself\u001b[0m\u001b[1;33m.\u001b[0m\u001b[0m_data\u001b[0m\u001b[1;33m.\u001b[0m\u001b[0marray\u001b[0m\u001b[1;33m.\u001b[0m\u001b[0m_str_index\u001b[0m\u001b[1;33m(\u001b[0m\u001b[0msub\u001b[0m\u001b[1;33m,\u001b[0m \u001b[0mstart\u001b[0m\u001b[1;33m=\u001b[0m\u001b[0mstart\u001b[0m\u001b[1;33m,\u001b[0m \u001b[0mend\u001b[0m\u001b[1;33m=\u001b[0m\u001b[0mend\u001b[0m\u001b[1;33m)\u001b[0m\u001b[1;33m\u001b[0m\u001b[1;33m\u001b[0m\u001b[0m\n\u001b[0m\u001b[0;32m   2513\u001b[0m         \u001b[1;32mreturn\u001b[0m \u001b[0mself\u001b[0m\u001b[1;33m.\u001b[0m\u001b[0m_wrap_result\u001b[0m\u001b[1;33m(\u001b[0m\u001b[0mresult\u001b[0m\u001b[1;33m,\u001b[0m \u001b[0mreturns_string\u001b[0m\u001b[1;33m=\u001b[0m\u001b[1;32mFalse\u001b[0m\u001b[1;33m)\u001b[0m\u001b[1;33m\u001b[0m\u001b[1;33m\u001b[0m\u001b[0m\n\u001b[0;32m   2514\u001b[0m \u001b[1;33m\u001b[0m\u001b[0m\n",
      "\u001b[1;32m~\\Anaconda3\\lib\\site-packages\\pandas\\core\\strings\\object_array.py\u001b[0m in \u001b[0;36m_str_index\u001b[1;34m(self, sub, start, end)\u001b[0m\n\u001b[0;32m    275\u001b[0m         \u001b[1;32melse\u001b[0m\u001b[1;33m:\u001b[0m\u001b[1;33m\u001b[0m\u001b[1;33m\u001b[0m\u001b[0m\n\u001b[0;32m    276\u001b[0m             \u001b[0mf\u001b[0m \u001b[1;33m=\u001b[0m \u001b[1;32mlambda\u001b[0m \u001b[0mx\u001b[0m\u001b[1;33m:\u001b[0m \u001b[0mx\u001b[0m\u001b[1;33m.\u001b[0m\u001b[0mindex\u001b[0m\u001b[1;33m(\u001b[0m\u001b[0msub\u001b[0m\u001b[1;33m,\u001b[0m \u001b[0mstart\u001b[0m\u001b[1;33m,\u001b[0m \u001b[0mend\u001b[0m\u001b[1;33m)\u001b[0m\u001b[1;33m\u001b[0m\u001b[1;33m\u001b[0m\u001b[0m\n\u001b[1;32m--> 277\u001b[1;33m         \u001b[1;32mreturn\u001b[0m \u001b[0mself\u001b[0m\u001b[1;33m.\u001b[0m\u001b[0m_str_map\u001b[0m\u001b[1;33m(\u001b[0m\u001b[0mf\u001b[0m\u001b[1;33m,\u001b[0m \u001b[0mdtype\u001b[0m\u001b[1;33m=\u001b[0m\u001b[1;34m\"int64\"\u001b[0m\u001b[1;33m)\u001b[0m\u001b[1;33m\u001b[0m\u001b[1;33m\u001b[0m\u001b[0m\n\u001b[0m\u001b[0;32m    278\u001b[0m \u001b[1;33m\u001b[0m\u001b[0m\n\u001b[0;32m    279\u001b[0m     \u001b[1;32mdef\u001b[0m \u001b[0m_str_rindex\u001b[0m\u001b[1;33m(\u001b[0m\u001b[0mself\u001b[0m\u001b[1;33m,\u001b[0m \u001b[0msub\u001b[0m\u001b[1;33m,\u001b[0m \u001b[0mstart\u001b[0m\u001b[1;33m=\u001b[0m\u001b[1;36m0\u001b[0m\u001b[1;33m,\u001b[0m \u001b[0mend\u001b[0m\u001b[1;33m=\u001b[0m\u001b[1;32mNone\u001b[0m\u001b[1;33m)\u001b[0m\u001b[1;33m:\u001b[0m\u001b[1;33m\u001b[0m\u001b[1;33m\u001b[0m\u001b[0m\n",
      "\u001b[1;32m~\\Anaconda3\\lib\\site-packages\\pandas\\core\\strings\\object_array.py\u001b[0m in \u001b[0;36m_str_map\u001b[1;34m(self, f, na_value, dtype)\u001b[0m\n\u001b[0;32m     59\u001b[0m         \u001b[0mconvert\u001b[0m \u001b[1;33m=\u001b[0m \u001b[1;32mnot\u001b[0m \u001b[0mnp\u001b[0m\u001b[1;33m.\u001b[0m\u001b[0mall\u001b[0m\u001b[1;33m(\u001b[0m\u001b[0mmask\u001b[0m\u001b[1;33m)\u001b[0m\u001b[1;33m\u001b[0m\u001b[1;33m\u001b[0m\u001b[0m\n\u001b[0;32m     60\u001b[0m         \u001b[1;32mtry\u001b[0m\u001b[1;33m:\u001b[0m\u001b[1;33m\u001b[0m\u001b[1;33m\u001b[0m\u001b[0m\n\u001b[1;32m---> 61\u001b[1;33m             \u001b[0mresult\u001b[0m \u001b[1;33m=\u001b[0m \u001b[0mlib\u001b[0m\u001b[1;33m.\u001b[0m\u001b[0mmap_infer_mask\u001b[0m\u001b[1;33m(\u001b[0m\u001b[0marr\u001b[0m\u001b[1;33m,\u001b[0m \u001b[0mf\u001b[0m\u001b[1;33m,\u001b[0m \u001b[0mmask\u001b[0m\u001b[1;33m.\u001b[0m\u001b[0mview\u001b[0m\u001b[1;33m(\u001b[0m\u001b[0mnp\u001b[0m\u001b[1;33m.\u001b[0m\u001b[0muint8\u001b[0m\u001b[1;33m)\u001b[0m\u001b[1;33m,\u001b[0m \u001b[0mconvert\u001b[0m\u001b[1;33m)\u001b[0m\u001b[1;33m\u001b[0m\u001b[1;33m\u001b[0m\u001b[0m\n\u001b[0m\u001b[0;32m     62\u001b[0m         \u001b[1;32mexcept\u001b[0m \u001b[1;33m(\u001b[0m\u001b[0mTypeError\u001b[0m\u001b[1;33m,\u001b[0m \u001b[0mAttributeError\u001b[0m\u001b[1;33m)\u001b[0m \u001b[1;32mas\u001b[0m \u001b[0me\u001b[0m\u001b[1;33m:\u001b[0m\u001b[1;33m\u001b[0m\u001b[1;33m\u001b[0m\u001b[0m\n\u001b[0;32m     63\u001b[0m             \u001b[1;31m# Reraise the exception if callable `f` got wrong number of args.\u001b[0m\u001b[1;33m\u001b[0m\u001b[1;33m\u001b[0m\u001b[1;33m\u001b[0m\u001b[0m\n",
      "\u001b[1;32mpandas\\_libs\\lib.pyx\u001b[0m in \u001b[0;36mpandas._libs.lib.map_infer_mask\u001b[1;34m()\u001b[0m\n",
      "\u001b[1;32m~\\Anaconda3\\lib\\site-packages\\pandas\\core\\strings\\object_array.py\u001b[0m in \u001b[0;36m<lambda>\u001b[1;34m(x)\u001b[0m\n\u001b[0;32m    274\u001b[0m             \u001b[0mf\u001b[0m \u001b[1;33m=\u001b[0m \u001b[1;32mlambda\u001b[0m \u001b[0mx\u001b[0m\u001b[1;33m:\u001b[0m \u001b[0mx\u001b[0m\u001b[1;33m.\u001b[0m\u001b[0mindex\u001b[0m\u001b[1;33m(\u001b[0m\u001b[0msub\u001b[0m\u001b[1;33m,\u001b[0m \u001b[0mstart\u001b[0m\u001b[1;33m,\u001b[0m \u001b[0mend\u001b[0m\u001b[1;33m)\u001b[0m\u001b[1;33m\u001b[0m\u001b[1;33m\u001b[0m\u001b[0m\n\u001b[0;32m    275\u001b[0m         \u001b[1;32melse\u001b[0m\u001b[1;33m:\u001b[0m\u001b[1;33m\u001b[0m\u001b[1;33m\u001b[0m\u001b[0m\n\u001b[1;32m--> 276\u001b[1;33m             \u001b[0mf\u001b[0m \u001b[1;33m=\u001b[0m \u001b[1;32mlambda\u001b[0m \u001b[0mx\u001b[0m\u001b[1;33m:\u001b[0m \u001b[0mx\u001b[0m\u001b[1;33m.\u001b[0m\u001b[0mindex\u001b[0m\u001b[1;33m(\u001b[0m\u001b[0msub\u001b[0m\u001b[1;33m,\u001b[0m \u001b[0mstart\u001b[0m\u001b[1;33m,\u001b[0m \u001b[0mend\u001b[0m\u001b[1;33m)\u001b[0m\u001b[1;33m\u001b[0m\u001b[1;33m\u001b[0m\u001b[0m\n\u001b[0m\u001b[0;32m    277\u001b[0m         \u001b[1;32mreturn\u001b[0m \u001b[0mself\u001b[0m\u001b[1;33m.\u001b[0m\u001b[0m_str_map\u001b[0m\u001b[1;33m(\u001b[0m\u001b[0mf\u001b[0m\u001b[1;33m,\u001b[0m \u001b[0mdtype\u001b[0m\u001b[1;33m=\u001b[0m\u001b[1;34m\"int64\"\u001b[0m\u001b[1;33m)\u001b[0m\u001b[1;33m\u001b[0m\u001b[1;33m\u001b[0m\u001b[0m\n\u001b[0;32m    278\u001b[0m \u001b[1;33m\u001b[0m\u001b[0m\n",
      "\u001b[1;31mValueError\u001b[0m: substring not found"
     ]
    }
   ],
   "source": [
    "data_set_tokened['content_1'] = data_set_tokened['content_1'].str.index('[가-힣]+ [(]+[a-zA-Z0-9.]+[@][a-zA-Z.]+[)]')"
   ]
  },
  {
   "cell_type": "code",
   "execution_count": 197,
   "id": "ae7e4b85",
   "metadata": {},
   "outputs": [],
   "source": [
    "data_set_tokened['content_1'] = data_set_tokened['content'] #.str.replace('[가-힣]+ [(]+[a-zA-Z0-9.]+[@][a-zA-Z.]+[)]', ' ', regex = True)\n",
    "\n",
    "## 신문사별\n",
    "### 1 이데일리\n",
    "data_set_tokened['content_1'] = data_set_tokened['content_1'].str.replace('이데일리 기자들의 비밀공간', ' ', regex = False)\n",
    "data_set_tokened['content_1'] = data_set_tokened['content_1'].str.replace('이데일리', ' ', regex = False)\n",
    "data_set_tokened['content_1'] = data_set_tokened['content_1'].str.replace(\"[(]출처: [가-힣]+[)]\", ' ', regex = True)\n",
    "#### 마지막 기자 주소 이후 광고 멘트들. [기자주소]-이후 모든 문자열 삭제로 해결하면 좋겠따. # 1006, 1030\n",
    "# data_set_tokened['content_1'] = data_set_tokened['content_1'].str.replace('20~30 세대를 위한 꿀팁! 정보', ' ', regex = False)\n",
    "# data_set_tokened['content_1'] = data_set_tokened['content_1'].str.replace(\"꿀잼 \\'웹툰\\'이 매일 매일 공짜...\", ' ', regex = False)\n",
    "# data_set_tokened['content_1'] = data_set_tokened['content_1'].str.replace(\"선착순 \\'5만명\\' 한정, KFC 쿠폰이 공짜~\", ' ', regex = False)\n",
    "# data_set_tokened['content_1'] = data_set_tokened['content_1'].str.replace(\"2030을 위한 알짜 정보가 가득\", ' ', regex = False)\n",
    "# data_set_tokened['content_1'] = data_set_tokened['content_1'].str.replace(\"최신 웹툰이 매일 공짜. \\'웹툰\\'\", ' ', regex = False)\n",
    "\n",
    "\n",
    "#\n",
    "data_set_tokened['content_1'] = data_set_tokened['content_1'].str.replace('chosunbiz.com', ' ', regex = False)\n",
    "data_set_tokened['content_1'] = data_set_tokened['content_1'].str.replace('한경로보뉴스', ' ', regex = False)\n",
    "data_set_tokened['content_1'] = data_set_tokened['content_1'].str.replace('라이온봇기자', ' ', regex = False) #213\n",
    "data_set_tokened['content_1'] = data_set_tokened['content_1'].str.replace('동영상 뉴스', ' ', regex = False) #5253\n",
    "data_set_tokened['content_1'] = data_set_tokened['content_1'].str.replace('Copyright by JTBC and JTBC Content Hub Co. Ltd.', ' ', regex = False) #5253\n",
    "data_set_tokened['content_1'] = data_set_tokened['content_1'].str.replace('【서울=뉴시스】', ' ', regex = False) #214\n",
    "data_set_tokened['content_1'] = data_set_tokened['content_1'].str.replace('※ 본 기사는 한국경제TV와 `금융 AI 전문기업 씽크풀`이 실시간으로 작성한 기사입니다', ' ', regex = False) #213 \n",
    "data_set_tokened['content_1'] = data_set_tokened['content_1'].str.replace('ⓒ 한국경제TV, 무단 전재 및 재배포 금지', ' ', regex = False) #213 \n",
    "data_set_tokened['content_1'] = data_set_tokened['content_1'].str.replace('전자신문과 금융AI전문기업 씽크풀의 증시분석 전문기자 로봇 ET가 쓴 기사입니다', ' ', regex = False)\n",
    "data_set_tokened['content_1'] = data_set_tokened['content_1'].str.replace('저작권자(c) YTN & YTN PLUS', ' ', regex = False) # 176\n",
    "data_set_tokened['content_1'] = data_set_tokened['content_1'].str.replace('(단위: 천원)', ' ', regex = False)\n",
    "data_set_tokened['content_1'] = data_set_tokened['content_1'].str.replace('영상취재: [가-힣,]+', ' ', regex = True) #5253\n",
    "data_set_tokened['content_1'] = data_set_tokened['content_1'].str.replace('영상편집: [가-힣,]+', ' ', regex = True) #5253\n",
    "data_set_tokened['content_1'] = data_set_tokened['content_1'].str.replace('[가-힣]{3}기자', \" \", regex=True) # 123\n",
    "data_set_tokened['content_1'] = data_set_tokened['content_1'].str.replace('[가-힣]+ 기자', \" \", regex=True)\n",
    "data_set_tokened['content_1'] = data_set_tokened['content_1'].str.replace('[가-힣]+ 선임기자', \" \", regex=True)\n",
    "data_set_tokened['content_1'] = data_set_tokened['content_1'].str.replace('꿀잼가득', \" \", regex=True)\n",
    "data_set_tokened['content_1'] = data_set_tokened['content_1'].str.replace('청춘뉘우스', \" \", regex=True)\n",
    "data_set_tokened['content_1'] = data_set_tokened['content_1'].str.replace('[↑]', \" 상승 \", regex=True)\n",
    "\n",
    "# 공통\n",
    "## e-mail address\n",
    "data_set_tokened['content_1'] = data_set_tokened['content_1'].str.replace('[가-힣]+ [(]+[a-zA-Z0-9.]+[@][a-zA-Z.]+[)]', ' ', regex = True)\n",
    "data_set_tokened['content_1'] = data_set_tokened['content_1'].str.replace('[가-힣]+[(]+[a-zA-Z0-9.]+[@][a-zA-Z.]+[)]', ' ', regex = True)\n",
    "data_set_tokened['content_1'] = data_set_tokened['content_1'].str.replace('[a-zA-Z0-9.]+[@][a-zA-Z.]', ' ', regex = True)\n",
    "\n",
    "## stock fs ticker no\n",
    "data_set_tokened['content_1'] = data_set_tokened['content_1'].str.replace('[(][0-9]{6}[)]', ' ', regex = True)\n",
    "# yyyy.mm.dd\n",
    "data_set_tokened['content_1'] = data_set_tokened['content_1'].str.replace('[0-9]+[.][0-9]+[.][0-9]+', ' ', regex = True)\n",
    "data_set_tokened['content_1'] = data_set_tokened['content_1'].str.replace('[0-9]+일', \" \", regex=True)\n",
    "\n",
    "## 사진 설명\n",
    "data_set_tokened['content_1'] = data_set_tokened['content_1'].str.replace('(가운데)', ' ', regex = False)\n",
    "data_set_tokened['content_1'] = data_set_tokened['content_1'].str.replace('(오른쪽)', ' ', regex = False)\n",
    "data_set_tokened['content_1'] = data_set_tokened['content_1'].str.replace('(가장 오른쪽)', ' ', regex = False)\n",
    "data_set_tokened['content_1'] = data_set_tokened['content_1'].str.replace('(왼쪽)', ' ', regex = False)\n",
    "data_set_tokened['content_1'] = data_set_tokened['content_1'].str.replace('(가장 왼쪽)', ' ', regex = False)\n",
    "data_set_tokened['content_1'] = data_set_tokened['content_1'].str.replace('[표]', ' ', regex = False) # 213 \n",
    "data_set_tokened['content_1'] = data_set_tokened['content_1'].str.replace('[그래프]', ' ', regex = False) # 213 \n",
    "\n",
    "# data_set_tokened['content_1'] = data_set_tokened['content_1'].str.replace('...', ' ', regex = False)\n",
    "## 기타 특수문자 처리\n",
    "data_set_tokened['content_1'] = data_set_tokened['content_1'].str.replace('[△▲■◇◆●]', \"\", regex=True)\n",
    "data_set_tokened['content_1'] = data_set_tokened['content_1'].str.replace('\\n', \" \", regex=True)\n",
    "data_set_tokened['content_1'] = data_set_tokened['content_1'].str.replace('[-=+,#/\\?:^$@*\\\"※~&%ㆍ!』\\\\‘|\\[\\]\\<\\>`\\'…》]', \" \", regex=True)"
   ]
  },
  {
   "cell_type": "code",
   "execution_count": 166,
   "id": "d1116b42",
   "metadata": {},
   "outputs": [
    {
     "data": {
      "text/plain": [
       "'현지 1위 사파리콤  보건부 당국과 GEPP 착공식윤혜정 KT 빅데이터사업지원단장(전무)이  (현지시간) 사파리콤 본사에서 열린  글로벌 감염병 확산 방지 플랫폼’(GEPP) 착공식에서 인사말을 하고 있다. 사파리콤은 케냐 현지 1위 통신사업자다. KT 제공      KT 가 아프리카에서 감염병 방지를 위한 사회공헌을 위해 현지 통신사·기관들과 협력한다.  KT는  (현지시간) 케냐 나이로비에서 현지 1위 통신사업자 사파리콤  케냐 보건부·정보통신부 등과 함께  글로벌 감염병 확산 방지 플랫폼’(GEPP) 착공식을 진행했다고 밝혔다.  GEPP는 세계 주요 통신사업자들이 로밍 기록 등 통신 이용 데이터를 이용해 세계적인 감염병 확산을 사전에 차단하기 위한 플랫폼이다. 각 국가의 관련 당국과 협업해 보건환경을 개선하자는 취지로 KT가 제안한 뒤 여러 국가 통신사업자 등과 협약을 체결중이다.  사파리콤과 진행하는 이번 착공식은 이런 협약이 구체적인 움직임으로 이어진 첫 사례라고 KT 관계자는 설명했다. KT와 사파리콤은 지난해 협약 체결에 이어 올해 상반기 케냐 법률원  정통부 등 정부 기관들과 워크숍을 통해 현지 적용을 위한 법률·기술 자문을 받았다.  케냐에 구축할 플랫폼은 케냐 보건부에서 설정한 국내외 감염병 정보와 감염병 위험 지역을 여행 중인 사라피콤의 고객 정보를 통합해 분석  활용한다. 분석한 정보를 바탕으로 사파리콤은 고객에게 문자메시지(SMS)를 통해 개인차원의 예방과 응대가 가능할 수 있도록 지원하고  정부 당국은 감염병 노출 현황 파악과 향후 예방정책 마련에도 활용할 수 있다.  케냐는 인근 국가인 DR콩고에서 에볼라 바이러스가 유행해 225명이 사망하는 등 지리적으로 감염병 확산에 민감하며  최근 경제 개발 등으로 외국인의 입국이 늘고 있어 적극적인 모습을 보이고 있다.  반기문 유엔글로벌콤팩트 한국협회 명예회장은 착공식 축하 영상 메시지를 통해 “지속가능개발목표(SDGs) 달성을 위해 민관 협력의 실질적인 사례가 이루어졌다”며 이번 프로젝트를 높이 평가했다.  윤혜정 KT 빅데이터사업지원단장(전무)은 “글로벌 감염병 확산 방지 프로젝트가 케냐 정부 차원에서 추진되어 그 지속성과 효과를 기대하고 있다”며 “케냐 정부  사파리콤과 협업해 민관 협력의 좋은 선례를 남기고 앞으로도 국내외에서 KT의 기술력을 인정받도록 노력하겠다”고 말했다.  KT는 또 사파리콤과 5G 워크숍을 열고 KT의 5G 비전과 지난   첫 전파발사를 비롯한 5G 상용화 계획을 소개하며 양사간 사업협력 방안을 논의했다고 덧붙였다.           '"
      ]
     },
     "execution_count": 166,
     "metadata": {},
     "output_type": "execute_result"
    }
   ],
   "source": [
    "data_set_tokened.loc[8, 'content_1']|"
   ]
  },
  {
   "cell_type": "code",
   "execution_count": null,
   "id": "cd272a66",
   "metadata": {},
   "outputs": [],
   "source": []
  },
  {
   "cell_type": "code",
   "execution_count": null,
   "id": "5f526899",
   "metadata": {},
   "outputs": [],
   "source": []
  },
  {
   "cell_type": "code",
   "execution_count": null,
   "id": "1b731ba4",
   "metadata": {},
   "outputs": [],
   "source": [
    "data[0].dropna(subset=[\"content\", \"summary\"], inplace = True)\n",
    "data[1].dropna(subset=[\"content\", \"summary\"], inplace = True)\n",
    "for i in range(2):\n",
    "  data[i].loc[:, \"content\"].replace('[-=+,#/\\?:^$@*\\\"※~&%ㆍ!』\\\\‘|\\[\\]\\<\\>`\\'…》]', \" \", regex=True, inplace=True)\n",
    "  data[i].loc[:, \"content\"].replace('\\n', \"\", regex=True, inplace=True)\n",
    "  data[i].loc[:, \"summary\"].replace('[-=+,#/\\?:^$@*\\\"※~&%ㆍ!』\\\\‘|\\[\\]\\<\\>`\\'…》]', \" \", regex=True, inplace=True)\n",
    "  data[i].loc[:, \"summary\"].replace('\\n', \"\", regex=True, inplace=True)\n",
    "  data[i].loc[:, \"content\"].replace('[가-힣]+ 기자', \"\", regex=True, inplace=True)\n",
    "  data[i].loc[:, \"summary\"].replace('[가-힣]+ 기자', \"\", regex=True, inplace=True)\n",
    "  data[i].loc[:, \"content\"].replace('[가-힣]+ 선임기자', \"\", regex=True, inplace=True)\n",
    "  data[i].loc[:, \"summary\"].replace('[가-힣]+ 선임기자', \"\", regex=True, inplace=True)"
   ]
  }
 ],
 "metadata": {
  "kernelspec": {
   "display_name": "Python 3",
   "language": "python",
   "name": "python3"
  },
  "language_info": {
   "codemirror_mode": {
    "name": "ipython",
    "version": 3
   },
   "file_extension": ".py",
   "mimetype": "text/x-python",
   "name": "python",
   "nbconvert_exporter": "python",
   "pygments_lexer": "ipython3",
   "version": "3.8.8"
  },
  "toc": {
   "base_numbering": 1,
   "nav_menu": {},
   "number_sections": true,
   "sideBar": true,
   "skip_h1_title": false,
   "title_cell": "Table of Contents",
   "title_sidebar": "Contents",
   "toc_cell": false,
   "toc_position": {},
   "toc_section_display": true,
   "toc_window_display": true
  }
 },
 "nbformat": 4,
 "nbformat_minor": 5
}
